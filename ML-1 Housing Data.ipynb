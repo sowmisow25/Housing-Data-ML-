{
 "cells": [
  {
   "cell_type": "code",
   "execution_count": 197,
   "metadata": {},
   "outputs": [
    {
     "name": "stdout",
     "output_type": "stream",
     "text": [
      "Requirement already satisfied: pandas-profiling in c:\\users\\krishna\\anaconda3\\lib\\site-packages (3.0.0)\n",
      "Requirement already satisfied: pydantic>=1.8.1 in c:\\users\\krishna\\anaconda3\\lib\\site-packages (from pandas-profiling) (1.8.2)\n",
      "Requirement already satisfied: numpy>=1.16.0 in c:\\users\\krishna\\anaconda3\\lib\\site-packages (from pandas-profiling) (1.18.5)\n",
      "Requirement already satisfied: scipy>=1.4.1 in c:\\users\\krishna\\anaconda3\\lib\\site-packages (from pandas-profiling) (1.5.0)\n",
      "Requirement already satisfied: missingno>=0.4.2 in c:\\users\\krishna\\anaconda3\\lib\\site-packages (from pandas-profiling) (0.4.2)\n",
      "Requirement already satisfied: htmlmin>=0.1.12 in c:\\users\\krishna\\anaconda3\\lib\\site-packages (from pandas-profiling) (0.1.12)\n",
      "Requirement already satisfied: joblib in c:\\users\\krishna\\anaconda3\\lib\\site-packages (from pandas-profiling) (0.16.0)\n",
      "Note: you may need to restart the kernel to use updated packages.\n",
      "Requirement already satisfied: tangled-up-in-unicode==0.1.0 in c:\\users\\krishna\\anaconda3\\lib\\site-packages (from pandas-profiling) (0.1.0)\n",
      "Requirement already satisfied: requests>=2.24.0 in c:\\users\\krishna\\anaconda3\\lib\\site-packages (from pandas-profiling) (2.24.0)\n",
      "Requirement already satisfied: tqdm>=4.48.2 in c:\\users\\krishna\\anaconda3\\lib\\site-packages (from pandas-profiling) (4.60.0)\n",
      "Requirement already satisfied: pandas!=1.0.0,!=1.0.1,!=1.0.2,!=1.1.0,>=0.25.3 in c:\\users\\krishna\\anaconda3\\lib\\site-packages (from pandas-profiling) (1.0.5)\n",
      "Requirement already satisfied: PyYAML>=5.0.0 in c:\\users\\krishna\\anaconda3\\lib\\site-packages (from pandas-profiling) (5.3.1)\n",
      "Requirement already satisfied: matplotlib>=3.2.0 in c:\\users\\krishna\\anaconda3\\lib\\site-packages (from pandas-profiling) (3.2.2)\n",
      "Requirement already satisfied: phik>=0.11.1 in c:\\users\\krishna\\anaconda3\\lib\\site-packages (from pandas-profiling) (0.11.2)\n",
      "Requirement already satisfied: seaborn>=0.10.1 in c:\\users\\krishna\\anaconda3\\lib\\site-packages (from pandas-profiling) (0.10.1)\n",
      "Requirement already satisfied: visions[type_image_path]==0.7.1 in c:\\users\\krishna\\anaconda3\\lib\\site-packages (from pandas-profiling) (0.7.1)\n",
      "Requirement already satisfied: jinja2>=2.11.1 in c:\\users\\krishna\\anaconda3\\lib\\site-packages (from pandas-profiling) (2.11.2)\n",
      "Requirement already satisfied: typing-extensions>=3.7.4.3 in c:\\users\\krishna\\anaconda3\\lib\\site-packages (from pydantic>=1.8.1->pandas-profiling) (3.10.0.0)\n",
      "Requirement already satisfied: urllib3!=1.25.0,!=1.25.1,<1.26,>=1.21.1 in c:\\users\\krishna\\anaconda3\\lib\\site-packages (from requests>=2.24.0->pandas-profiling) (1.25.9)\n",
      "Requirement already satisfied: chardet<4,>=3.0.2 in c:\\users\\krishna\\anaconda3\\lib\\site-packages (from requests>=2.24.0->pandas-profiling) (3.0.4)\n",
      "Requirement already satisfied: idna<3,>=2.5 in c:\\users\\krishna\\anaconda3\\lib\\site-packages (from requests>=2.24.0->pandas-profiling) (2.10)\n",
      "Requirement already satisfied: certifi>=2017.4.17 in c:\\users\\krishna\\anaconda3\\lib\\site-packages (from requests>=2.24.0->pandas-profiling) (2020.6.20)\n",
      "Requirement already satisfied: pytz>=2017.2 in c:\\users\\krishna\\anaconda3\\lib\\site-packages (from pandas!=1.0.0,!=1.0.1,!=1.0.2,!=1.1.0,>=0.25.3->pandas-profiling) (2020.1)\n",
      "Requirement already satisfied: python-dateutil>=2.6.1 in c:\\users\\krishna\\anaconda3\\lib\\site-packages (from pandas!=1.0.0,!=1.0.1,!=1.0.2,!=1.1.0,>=0.25.3->pandas-profiling) (2.8.1)\n",
      "Requirement already satisfied: pyparsing!=2.0.4,!=2.1.2,!=2.1.6,>=2.0.1 in c:\\users\\krishna\\anaconda3\\lib\\site-packages (from matplotlib>=3.2.0->pandas-profiling) (2.4.7)\n",
      "Requirement already satisfied: cycler>=0.10 in c:\\users\\krishna\\anaconda3\\lib\\site-packages (from matplotlib>=3.2.0->pandas-profiling) (0.10.0)\n",
      "Requirement already satisfied: kiwisolver>=1.0.1 in c:\\users\\krishna\\anaconda3\\lib\\site-packages (from matplotlib>=3.2.0->pandas-profiling) (1.2.0)\n",
      "Requirement already satisfied: multimethod==1.4 in c:\\users\\krishna\\anaconda3\\lib\\site-packages (from visions[type_image_path]==0.7.1->pandas-profiling) (1.4)\n",
      "Requirement already satisfied: attrs>=19.3.0 in c:\\users\\krishna\\anaconda3\\lib\\site-packages (from visions[type_image_path]==0.7.1->pandas-profiling) (19.3.0)\n",
      "Requirement already satisfied: bottleneck in c:\\users\\krishna\\anaconda3\\lib\\site-packages (from visions[type_image_path]==0.7.1->pandas-profiling) (1.3.2)\n",
      "Requirement already satisfied: networkx>=2.4 in c:\\users\\krishna\\anaconda3\\lib\\site-packages (from visions[type_image_path]==0.7.1->pandas-profiling) (2.4)\n",
      "Requirement already satisfied: imagehash; extra == \"type_image_path\" in c:\\users\\krishna\\anaconda3\\lib\\site-packages (from visions[type_image_path]==0.7.1->pandas-profiling) (4.2.0)\n",
      "Requirement already satisfied: Pillow; extra == \"type_image_path\" in c:\\users\\krishna\\anaconda3\\lib\\site-packages (from visions[type_image_path]==0.7.1->pandas-profiling) (7.2.0)\n",
      "Requirement already satisfied: MarkupSafe>=0.23 in c:\\users\\krishna\\anaconda3\\lib\\site-packages (from jinja2>=2.11.1->pandas-profiling) (1.1.1)\n",
      "Requirement already satisfied: six>=1.5 in c:\\users\\krishna\\anaconda3\\lib\\site-packages (from python-dateutil>=2.6.1->pandas!=1.0.0,!=1.0.1,!=1.0.2,!=1.1.0,>=0.25.3->pandas-profiling) (1.15.0)\n",
      "Requirement already satisfied: decorator>=4.3.0 in c:\\users\\krishna\\anaconda3\\lib\\site-packages (from networkx>=2.4->visions[type_image_path]==0.7.1->pandas-profiling) (4.4.2)\n",
      "Requirement already satisfied: PyWavelets in c:\\users\\krishna\\anaconda3\\lib\\site-packages (from imagehash; extra == \"type_image_path\"->visions[type_image_path]==0.7.1->pandas-profiling) (1.1.1)\n"
     ]
    }
   ],
   "source": [
    "\n",
    "pip install pandas-profiling"
   ]
  },
  {
   "cell_type": "code",
   "execution_count": 198,
   "metadata": {},
   "outputs": [],
   "source": [
    "import pandas as pd\n",
    "import numpy as np\n",
    "import seaborn as sns\n",
    "import matplotlib.pyplot as plt\n",
    "import math as m\n",
    "import datetime as dt\n",
    "from numpy import mean\n",
    "from numpy import absolute\n",
    "from numpy import sqrt\n",
    "from sklearn.linear_model import LinearRegression, LassoCV, RidgeCV\n",
    "from sklearn.metrics import explained_variance_score\n",
    "from sklearn.model_selection import KFold,RepeatedStratifiedKFold\n",
    "from sklearn.preprocessing import StandardScaler, PolynomialFeatures, LabelEncoder\n",
    "from sklearn.model_selection import RepeatedKFold\n",
    "from sklearn.model_selection import train_test_split, cross_val_score\n",
    "from statsmodels.tools.eval_measures import rmse\n",
    "from sklearn.metrics import r2_score"
   ]
  },
  {
   "cell_type": "code",
   "execution_count": 199,
   "metadata": {},
   "outputs": [
    {
     "data": {
      "text/html": [
       "<div>\n",
       "<style scoped>\n",
       "    .dataframe tbody tr th:only-of-type {\n",
       "        vertical-align: middle;\n",
       "    }\n",
       "\n",
       "    .dataframe tbody tr th {\n",
       "        vertical-align: top;\n",
       "    }\n",
       "\n",
       "    .dataframe thead th {\n",
       "        text-align: right;\n",
       "    }\n",
       "</style>\n",
       "<table border=\"1\" class=\"dataframe\">\n",
       "  <thead>\n",
       "    <tr style=\"text-align: right;\">\n",
       "      <th></th>\n",
       "      <th>Id</th>\n",
       "      <th>PID</th>\n",
       "      <th>MS SubClass</th>\n",
       "      <th>MS Zoning</th>\n",
       "      <th>Lot Frontage</th>\n",
       "      <th>Lot Area</th>\n",
       "      <th>Street</th>\n",
       "      <th>Alley</th>\n",
       "      <th>Lot Shape</th>\n",
       "      <th>Land Contour</th>\n",
       "      <th>...</th>\n",
       "      <th>Screen Porch</th>\n",
       "      <th>Pool Area</th>\n",
       "      <th>Pool QC</th>\n",
       "      <th>Fence</th>\n",
       "      <th>Misc Feature</th>\n",
       "      <th>Misc Val</th>\n",
       "      <th>Mo Sold</th>\n",
       "      <th>Yr Sold</th>\n",
       "      <th>Sale Type</th>\n",
       "      <th>SalePrice</th>\n",
       "    </tr>\n",
       "  </thead>\n",
       "  <tbody>\n",
       "    <tr>\n",
       "      <th>0</th>\n",
       "      <td>109</td>\n",
       "      <td>533352170</td>\n",
       "      <td>60</td>\n",
       "      <td>RL</td>\n",
       "      <td>NaN</td>\n",
       "      <td>13517</td>\n",
       "      <td>Pave</td>\n",
       "      <td>NaN</td>\n",
       "      <td>IR1</td>\n",
       "      <td>Lvl</td>\n",
       "      <td>...</td>\n",
       "      <td>0</td>\n",
       "      <td>0</td>\n",
       "      <td>NaN</td>\n",
       "      <td>NaN</td>\n",
       "      <td>NaN</td>\n",
       "      <td>0</td>\n",
       "      <td>3</td>\n",
       "      <td>2010</td>\n",
       "      <td>WD</td>\n",
       "      <td>130500</td>\n",
       "    </tr>\n",
       "    <tr>\n",
       "      <th>1</th>\n",
       "      <td>544</td>\n",
       "      <td>531379050</td>\n",
       "      <td>60</td>\n",
       "      <td>RL</td>\n",
       "      <td>43.0</td>\n",
       "      <td>11492</td>\n",
       "      <td>Pave</td>\n",
       "      <td>NaN</td>\n",
       "      <td>IR1</td>\n",
       "      <td>Lvl</td>\n",
       "      <td>...</td>\n",
       "      <td>0</td>\n",
       "      <td>0</td>\n",
       "      <td>NaN</td>\n",
       "      <td>NaN</td>\n",
       "      <td>NaN</td>\n",
       "      <td>0</td>\n",
       "      <td>4</td>\n",
       "      <td>2009</td>\n",
       "      <td>WD</td>\n",
       "      <td>220000</td>\n",
       "    </tr>\n",
       "    <tr>\n",
       "      <th>2</th>\n",
       "      <td>153</td>\n",
       "      <td>535304180</td>\n",
       "      <td>20</td>\n",
       "      <td>RL</td>\n",
       "      <td>68.0</td>\n",
       "      <td>7922</td>\n",
       "      <td>Pave</td>\n",
       "      <td>NaN</td>\n",
       "      <td>Reg</td>\n",
       "      <td>Lvl</td>\n",
       "      <td>...</td>\n",
       "      <td>0</td>\n",
       "      <td>0</td>\n",
       "      <td>NaN</td>\n",
       "      <td>NaN</td>\n",
       "      <td>NaN</td>\n",
       "      <td>0</td>\n",
       "      <td>1</td>\n",
       "      <td>2010</td>\n",
       "      <td>WD</td>\n",
       "      <td>109000</td>\n",
       "    </tr>\n",
       "    <tr>\n",
       "      <th>3</th>\n",
       "      <td>318</td>\n",
       "      <td>916386060</td>\n",
       "      <td>60</td>\n",
       "      <td>RL</td>\n",
       "      <td>73.0</td>\n",
       "      <td>9802</td>\n",
       "      <td>Pave</td>\n",
       "      <td>NaN</td>\n",
       "      <td>Reg</td>\n",
       "      <td>Lvl</td>\n",
       "      <td>...</td>\n",
       "      <td>0</td>\n",
       "      <td>0</td>\n",
       "      <td>NaN</td>\n",
       "      <td>NaN</td>\n",
       "      <td>NaN</td>\n",
       "      <td>0</td>\n",
       "      <td>4</td>\n",
       "      <td>2010</td>\n",
       "      <td>WD</td>\n",
       "      <td>174000</td>\n",
       "    </tr>\n",
       "    <tr>\n",
       "      <th>4</th>\n",
       "      <td>255</td>\n",
       "      <td>906425045</td>\n",
       "      <td>50</td>\n",
       "      <td>RL</td>\n",
       "      <td>82.0</td>\n",
       "      <td>14235</td>\n",
       "      <td>Pave</td>\n",
       "      <td>NaN</td>\n",
       "      <td>IR1</td>\n",
       "      <td>Lvl</td>\n",
       "      <td>...</td>\n",
       "      <td>0</td>\n",
       "      <td>0</td>\n",
       "      <td>NaN</td>\n",
       "      <td>NaN</td>\n",
       "      <td>NaN</td>\n",
       "      <td>0</td>\n",
       "      <td>3</td>\n",
       "      <td>2010</td>\n",
       "      <td>WD</td>\n",
       "      <td>138500</td>\n",
       "    </tr>\n",
       "  </tbody>\n",
       "</table>\n",
       "<p>5 rows × 81 columns</p>\n",
       "</div>"
      ],
      "text/plain": [
       "    Id        PID  MS SubClass MS Zoning  Lot Frontage  Lot Area Street Alley  \\\n",
       "0  109  533352170           60        RL           NaN     13517   Pave   NaN   \n",
       "1  544  531379050           60        RL          43.0     11492   Pave   NaN   \n",
       "2  153  535304180           20        RL          68.0      7922   Pave   NaN   \n",
       "3  318  916386060           60        RL          73.0      9802   Pave   NaN   \n",
       "4  255  906425045           50        RL          82.0     14235   Pave   NaN   \n",
       "\n",
       "  Lot Shape Land Contour  ... Screen Porch Pool Area Pool QC Fence  \\\n",
       "0       IR1          Lvl  ...            0         0     NaN   NaN   \n",
       "1       IR1          Lvl  ...            0         0     NaN   NaN   \n",
       "2       Reg          Lvl  ...            0         0     NaN   NaN   \n",
       "3       Reg          Lvl  ...            0         0     NaN   NaN   \n",
       "4       IR1          Lvl  ...            0         0     NaN   NaN   \n",
       "\n",
       "  Misc Feature Misc Val Mo Sold Yr Sold  Sale Type  SalePrice  \n",
       "0          NaN        0       3    2010        WD      130500  \n",
       "1          NaN        0       4    2009        WD      220000  \n",
       "2          NaN        0       1    2010        WD      109000  \n",
       "3          NaN        0       4    2010        WD      174000  \n",
       "4          NaN        0       3    2010        WD      138500  \n",
       "\n",
       "[5 rows x 81 columns]"
      ]
     },
     "execution_count": 199,
     "metadata": {},
     "output_type": "execute_result"
    }
   ],
   "source": [
    "df=pd.read_csv('https://raw.githubusercontent.com/vgiannotta/Analysis-and-Prediction-of-Home-Prices/master/datasets/train.csv')\n",
    "df.head()"
   ]
  },
  {
   "cell_type": "code",
   "execution_count": 200,
   "metadata": {},
   "outputs": [
    {
     "data": {
      "application/vnd.jupyter.widget-view+json": {
       "model_id": "b084ffc265df4cddbe50830253e4be45",
       "version_major": 2,
       "version_minor": 0
      },
      "text/plain": [
       "Summarize dataset:   0%|          | 0/94 [00:00<?, ?it/s]"
      ]
     },
     "metadata": {},
     "output_type": "display_data"
    },
    {
     "name": "stderr",
     "output_type": "stream",
     "text": [
      "C:\\Users\\krishna\\anaconda3\\lib\\site-packages\\pandas_profiling\\model\\correlations.py:146: UserWarning: There was an attempt to calculate the cramers correlation, but this failed.\n",
      "To hide this warning, disable the calculation\n",
      "(using `df.profile_report(correlations={\"cramers\": {\"calculate\": False}})`\n",
      "If this is problematic for your use case, please report this as an issue:\n",
      "https://github.com/pandas-profiling/pandas-profiling/issues\n",
      "(include the error message: 'No data; `observed` has size 0.')\n",
      "  warnings.warn(\n",
      "C:\\Users\\krishna\\anaconda3\\lib\\site-packages\\pandas_profiling\\model\\correlations.py:210: RuntimeWarning: invalid value encountered in greater_equal\n",
      "  bool_index = abs(correlation_matrix.values) >= threshold\n"
     ]
    },
    {
     "data": {
      "application/vnd.jupyter.widget-view+json": {
       "model_id": "5cc33b684cd04d0faf0103cfab2fc719",
       "version_major": 2,
       "version_minor": 0
      },
      "text/plain": [
       "Generate report structure:   0%|          | 0/1 [00:00<?, ?it/s]"
      ]
     },
     "metadata": {},
     "output_type": "display_data"
    },
    {
     "data": {
      "application/vnd.jupyter.widget-view+json": {
       "model_id": "7bbe36a8f0fc41f48c8fa066c1bcf748",
       "version_major": 2,
       "version_minor": 0
      },
      "text/plain": [
       "Render HTML:   0%|          | 0/1 [00:00<?, ?it/s]"
      ]
     },
     "metadata": {},
     "output_type": "display_data"
    },
    {
     "data": {
      "application/vnd.jupyter.widget-view+json": {
       "model_id": "8c6ecb6e7c1d40d897b1a60372fe73e6",
       "version_major": 2,
       "version_minor": 0
      },
      "text/plain": [
       "Export report to file:   0%|          | 0/1 [00:00<?, ?it/s]"
      ]
     },
     "metadata": {},
     "output_type": "display_data"
    }
   ],
   "source": [
    "from pandas_profiling import ProfileReport\n",
    "prof = ProfileReport(df)\n",
    "prof.to_file(output_file='output.html')"
   ]
  },
  {
   "cell_type": "markdown",
   "metadata": {},
   "source": [
    "# Data Cleaning"
   ]
  },
  {
   "cell_type": "markdown",
   "metadata": {},
   "source": [
    "Examining Null Values"
   ]
  },
  {
   "cell_type": "markdown",
   "metadata": {},
   "source": [
    "1)Replace all the null values in categorical columns with 'NA'\n",
    "<BR>\n",
    "2) Replace all the null values in numerical columns with 0.0  \n",
    "<BR>"
   ]
  },
  {
   "cell_type": "code",
   "execution_count": 201,
   "metadata": {},
   "outputs": [
    {
     "data": {
      "text/plain": [
       "Pool QC           2042\n",
       "Misc Feature      1986\n",
       "Alley             1911\n",
       "Fence             1651\n",
       "Fireplace Qu      1000\n",
       "Lot Frontage       330\n",
       "Garage Finish      114\n",
       "Garage Cond        114\n",
       "Garage Qual        114\n",
       "Garage Yr Blt      114\n",
       "Garage Type        113\n",
       "Bsmt Exposure       58\n",
       "BsmtFin Type 2      56\n",
       "BsmtFin Type 1      55\n",
       "Bsmt Cond           55\n",
       "Bsmt Qual           55\n",
       "Mas Vnr Type        22\n",
       "Mas Vnr Area        22\n",
       "Bsmt Half Bath       2\n",
       "Bsmt Full Bath       2\n",
       "Garage Cars          1\n",
       "Garage Area          1\n",
       "Bsmt Unf SF          1\n",
       "BsmtFin SF 2         1\n",
       "Total Bsmt SF        1\n",
       "BsmtFin SF 1         1\n",
       "Overall Cond         0\n",
       "dtype: int64"
      ]
     },
     "execution_count": 201,
     "metadata": {},
     "output_type": "execute_result"
    }
   ],
   "source": [
    "df.isnull().sum().sort_values(ascending=False)[:27]"
   ]
  },
  {
   "cell_type": "code",
   "execution_count": 202,
   "metadata": {},
   "outputs": [
    {
     "data": {
      "text/html": [
       "<div>\n",
       "<style scoped>\n",
       "    .dataframe tbody tr th:only-of-type {\n",
       "        vertical-align: middle;\n",
       "    }\n",
       "\n",
       "    .dataframe tbody tr th {\n",
       "        vertical-align: top;\n",
       "    }\n",
       "\n",
       "    .dataframe thead th {\n",
       "        text-align: right;\n",
       "    }\n",
       "</style>\n",
       "<table border=\"1\" class=\"dataframe\">\n",
       "  <thead>\n",
       "    <tr style=\"text-align: right;\">\n",
       "      <th></th>\n",
       "      <th>Id</th>\n",
       "      <th>PID</th>\n",
       "      <th>MS SubClass</th>\n",
       "      <th>MS Zoning</th>\n",
       "      <th>Lot Frontage</th>\n",
       "      <th>Lot Area</th>\n",
       "      <th>Street</th>\n",
       "      <th>Alley</th>\n",
       "      <th>Lot Shape</th>\n",
       "      <th>Land Contour</th>\n",
       "      <th>...</th>\n",
       "      <th>Screen Porch</th>\n",
       "      <th>Pool Area</th>\n",
       "      <th>Pool QC</th>\n",
       "      <th>Fence</th>\n",
       "      <th>Misc Feature</th>\n",
       "      <th>Misc Val</th>\n",
       "      <th>Mo Sold</th>\n",
       "      <th>Yr Sold</th>\n",
       "      <th>Sale Type</th>\n",
       "      <th>SalePrice</th>\n",
       "    </tr>\n",
       "  </thead>\n",
       "  <tbody>\n",
       "    <tr>\n",
       "      <th>0</th>\n",
       "      <td>109</td>\n",
       "      <td>533352170</td>\n",
       "      <td>60</td>\n",
       "      <td>RL</td>\n",
       "      <td>NaN</td>\n",
       "      <td>13517</td>\n",
       "      <td>Pave</td>\n",
       "      <td>NA</td>\n",
       "      <td>IR1</td>\n",
       "      <td>Lvl</td>\n",
       "      <td>...</td>\n",
       "      <td>0</td>\n",
       "      <td>0</td>\n",
       "      <td>NA</td>\n",
       "      <td>NA</td>\n",
       "      <td>NA</td>\n",
       "      <td>0</td>\n",
       "      <td>3</td>\n",
       "      <td>2010</td>\n",
       "      <td>WD</td>\n",
       "      <td>130500</td>\n",
       "    </tr>\n",
       "    <tr>\n",
       "      <th>1</th>\n",
       "      <td>544</td>\n",
       "      <td>531379050</td>\n",
       "      <td>60</td>\n",
       "      <td>RL</td>\n",
       "      <td>43.0</td>\n",
       "      <td>11492</td>\n",
       "      <td>Pave</td>\n",
       "      <td>NA</td>\n",
       "      <td>IR1</td>\n",
       "      <td>Lvl</td>\n",
       "      <td>...</td>\n",
       "      <td>0</td>\n",
       "      <td>0</td>\n",
       "      <td>NA</td>\n",
       "      <td>NA</td>\n",
       "      <td>NA</td>\n",
       "      <td>0</td>\n",
       "      <td>4</td>\n",
       "      <td>2009</td>\n",
       "      <td>WD</td>\n",
       "      <td>220000</td>\n",
       "    </tr>\n",
       "    <tr>\n",
       "      <th>2</th>\n",
       "      <td>153</td>\n",
       "      <td>535304180</td>\n",
       "      <td>20</td>\n",
       "      <td>RL</td>\n",
       "      <td>68.0</td>\n",
       "      <td>7922</td>\n",
       "      <td>Pave</td>\n",
       "      <td>NA</td>\n",
       "      <td>Reg</td>\n",
       "      <td>Lvl</td>\n",
       "      <td>...</td>\n",
       "      <td>0</td>\n",
       "      <td>0</td>\n",
       "      <td>NA</td>\n",
       "      <td>NA</td>\n",
       "      <td>NA</td>\n",
       "      <td>0</td>\n",
       "      <td>1</td>\n",
       "      <td>2010</td>\n",
       "      <td>WD</td>\n",
       "      <td>109000</td>\n",
       "    </tr>\n",
       "    <tr>\n",
       "      <th>3</th>\n",
       "      <td>318</td>\n",
       "      <td>916386060</td>\n",
       "      <td>60</td>\n",
       "      <td>RL</td>\n",
       "      <td>73.0</td>\n",
       "      <td>9802</td>\n",
       "      <td>Pave</td>\n",
       "      <td>NA</td>\n",
       "      <td>Reg</td>\n",
       "      <td>Lvl</td>\n",
       "      <td>...</td>\n",
       "      <td>0</td>\n",
       "      <td>0</td>\n",
       "      <td>NA</td>\n",
       "      <td>NA</td>\n",
       "      <td>NA</td>\n",
       "      <td>0</td>\n",
       "      <td>4</td>\n",
       "      <td>2010</td>\n",
       "      <td>WD</td>\n",
       "      <td>174000</td>\n",
       "    </tr>\n",
       "    <tr>\n",
       "      <th>4</th>\n",
       "      <td>255</td>\n",
       "      <td>906425045</td>\n",
       "      <td>50</td>\n",
       "      <td>RL</td>\n",
       "      <td>82.0</td>\n",
       "      <td>14235</td>\n",
       "      <td>Pave</td>\n",
       "      <td>NA</td>\n",
       "      <td>IR1</td>\n",
       "      <td>Lvl</td>\n",
       "      <td>...</td>\n",
       "      <td>0</td>\n",
       "      <td>0</td>\n",
       "      <td>NA</td>\n",
       "      <td>NA</td>\n",
       "      <td>NA</td>\n",
       "      <td>0</td>\n",
       "      <td>3</td>\n",
       "      <td>2010</td>\n",
       "      <td>WD</td>\n",
       "      <td>138500</td>\n",
       "    </tr>\n",
       "  </tbody>\n",
       "</table>\n",
       "<p>5 rows × 81 columns</p>\n",
       "</div>"
      ],
      "text/plain": [
       "    Id        PID  MS SubClass MS Zoning  Lot Frontage  Lot Area Street Alley  \\\n",
       "0  109  533352170           60        RL           NaN     13517   Pave    NA   \n",
       "1  544  531379050           60        RL          43.0     11492   Pave    NA   \n",
       "2  153  535304180           20        RL          68.0      7922   Pave    NA   \n",
       "3  318  916386060           60        RL          73.0      9802   Pave    NA   \n",
       "4  255  906425045           50        RL          82.0     14235   Pave    NA   \n",
       "\n",
       "  Lot Shape Land Contour  ... Screen Porch Pool Area Pool QC Fence  \\\n",
       "0       IR1          Lvl  ...            0         0      NA    NA   \n",
       "1       IR1          Lvl  ...            0         0      NA    NA   \n",
       "2       Reg          Lvl  ...            0         0      NA    NA   \n",
       "3       Reg          Lvl  ...            0         0      NA    NA   \n",
       "4       IR1          Lvl  ...            0         0      NA    NA   \n",
       "\n",
       "  Misc Feature Misc Val Mo Sold Yr Sold  Sale Type  SalePrice  \n",
       "0           NA        0       3    2010        WD      130500  \n",
       "1           NA        0       4    2009        WD      220000  \n",
       "2           NA        0       1    2010        WD      109000  \n",
       "3           NA        0       4    2010        WD      174000  \n",
       "4           NA        0       3    2010        WD      138500  \n",
       "\n",
       "[5 rows x 81 columns]"
      ]
     },
     "execution_count": 202,
     "metadata": {},
     "output_type": "execute_result"
    }
   ],
   "source": [
    "# Replacing nulls with 'NA' for all categorical data:\n",
    "\n",
    "na_columns = ['Pool QC', 'Misc Feature', 'Alley', 'Fence', 'Fireplace Qu', 'Garage Finish', 'Garage Cond', \n",
    "              'Garage Qual', 'Garage Type', 'Bsmt Exposure', 'BsmtFin Type 2', 'BsmtFin Type 2', 'Bsmt Cond', \n",
    "              'Bsmt Qual', 'Mas Vnr Type'] \n",
    "\n",
    "[df[x].replace(np.nan, 'NA', inplace=True) for x in na_columns]\n",
    "\n",
    "df.head()"
   ]
  },
  {
   "cell_type": "code",
   "execution_count": 203,
   "metadata": {},
   "outputs": [
    {
     "data": {
      "text/html": [
       "<div>\n",
       "<style scoped>\n",
       "    .dataframe tbody tr th:only-of-type {\n",
       "        vertical-align: middle;\n",
       "    }\n",
       "\n",
       "    .dataframe tbody tr th {\n",
       "        vertical-align: top;\n",
       "    }\n",
       "\n",
       "    .dataframe thead th {\n",
       "        text-align: right;\n",
       "    }\n",
       "</style>\n",
       "<table border=\"1\" class=\"dataframe\">\n",
       "  <thead>\n",
       "    <tr style=\"text-align: right;\">\n",
       "      <th></th>\n",
       "      <th>Id</th>\n",
       "      <th>PID</th>\n",
       "      <th>MS SubClass</th>\n",
       "      <th>MS Zoning</th>\n",
       "      <th>Lot Frontage</th>\n",
       "      <th>Lot Area</th>\n",
       "      <th>Street</th>\n",
       "      <th>Alley</th>\n",
       "      <th>Lot Shape</th>\n",
       "      <th>Land Contour</th>\n",
       "      <th>...</th>\n",
       "      <th>Screen Porch</th>\n",
       "      <th>Pool Area</th>\n",
       "      <th>Pool QC</th>\n",
       "      <th>Fence</th>\n",
       "      <th>Misc Feature</th>\n",
       "      <th>Misc Val</th>\n",
       "      <th>Mo Sold</th>\n",
       "      <th>Yr Sold</th>\n",
       "      <th>Sale Type</th>\n",
       "      <th>SalePrice</th>\n",
       "    </tr>\n",
       "  </thead>\n",
       "  <tbody>\n",
       "    <tr>\n",
       "      <th>0</th>\n",
       "      <td>109</td>\n",
       "      <td>533352170</td>\n",
       "      <td>60</td>\n",
       "      <td>RL</td>\n",
       "      <td>0.0</td>\n",
       "      <td>13517</td>\n",
       "      <td>Pave</td>\n",
       "      <td>NA</td>\n",
       "      <td>IR1</td>\n",
       "      <td>Lvl</td>\n",
       "      <td>...</td>\n",
       "      <td>0</td>\n",
       "      <td>0</td>\n",
       "      <td>NA</td>\n",
       "      <td>NA</td>\n",
       "      <td>NA</td>\n",
       "      <td>0</td>\n",
       "      <td>3</td>\n",
       "      <td>2010</td>\n",
       "      <td>WD</td>\n",
       "      <td>130500</td>\n",
       "    </tr>\n",
       "    <tr>\n",
       "      <th>1</th>\n",
       "      <td>544</td>\n",
       "      <td>531379050</td>\n",
       "      <td>60</td>\n",
       "      <td>RL</td>\n",
       "      <td>43</td>\n",
       "      <td>11492</td>\n",
       "      <td>Pave</td>\n",
       "      <td>NA</td>\n",
       "      <td>IR1</td>\n",
       "      <td>Lvl</td>\n",
       "      <td>...</td>\n",
       "      <td>0</td>\n",
       "      <td>0</td>\n",
       "      <td>NA</td>\n",
       "      <td>NA</td>\n",
       "      <td>NA</td>\n",
       "      <td>0</td>\n",
       "      <td>4</td>\n",
       "      <td>2009</td>\n",
       "      <td>WD</td>\n",
       "      <td>220000</td>\n",
       "    </tr>\n",
       "    <tr>\n",
       "      <th>2</th>\n",
       "      <td>153</td>\n",
       "      <td>535304180</td>\n",
       "      <td>20</td>\n",
       "      <td>RL</td>\n",
       "      <td>68</td>\n",
       "      <td>7922</td>\n",
       "      <td>Pave</td>\n",
       "      <td>NA</td>\n",
       "      <td>Reg</td>\n",
       "      <td>Lvl</td>\n",
       "      <td>...</td>\n",
       "      <td>0</td>\n",
       "      <td>0</td>\n",
       "      <td>NA</td>\n",
       "      <td>NA</td>\n",
       "      <td>NA</td>\n",
       "      <td>0</td>\n",
       "      <td>1</td>\n",
       "      <td>2010</td>\n",
       "      <td>WD</td>\n",
       "      <td>109000</td>\n",
       "    </tr>\n",
       "    <tr>\n",
       "      <th>3</th>\n",
       "      <td>318</td>\n",
       "      <td>916386060</td>\n",
       "      <td>60</td>\n",
       "      <td>RL</td>\n",
       "      <td>73</td>\n",
       "      <td>9802</td>\n",
       "      <td>Pave</td>\n",
       "      <td>NA</td>\n",
       "      <td>Reg</td>\n",
       "      <td>Lvl</td>\n",
       "      <td>...</td>\n",
       "      <td>0</td>\n",
       "      <td>0</td>\n",
       "      <td>NA</td>\n",
       "      <td>NA</td>\n",
       "      <td>NA</td>\n",
       "      <td>0</td>\n",
       "      <td>4</td>\n",
       "      <td>2010</td>\n",
       "      <td>WD</td>\n",
       "      <td>174000</td>\n",
       "    </tr>\n",
       "    <tr>\n",
       "      <th>4</th>\n",
       "      <td>255</td>\n",
       "      <td>906425045</td>\n",
       "      <td>50</td>\n",
       "      <td>RL</td>\n",
       "      <td>82</td>\n",
       "      <td>14235</td>\n",
       "      <td>Pave</td>\n",
       "      <td>NA</td>\n",
       "      <td>IR1</td>\n",
       "      <td>Lvl</td>\n",
       "      <td>...</td>\n",
       "      <td>0</td>\n",
       "      <td>0</td>\n",
       "      <td>NA</td>\n",
       "      <td>NA</td>\n",
       "      <td>NA</td>\n",
       "      <td>0</td>\n",
       "      <td>3</td>\n",
       "      <td>2010</td>\n",
       "      <td>WD</td>\n",
       "      <td>138500</td>\n",
       "    </tr>\n",
       "  </tbody>\n",
       "</table>\n",
       "<p>5 rows × 81 columns</p>\n",
       "</div>"
      ],
      "text/plain": [
       "    Id        PID  MS SubClass MS Zoning Lot Frontage  Lot Area Street Alley  \\\n",
       "0  109  533352170           60        RL          0.0     13517   Pave    NA   \n",
       "1  544  531379050           60        RL           43     11492   Pave    NA   \n",
       "2  153  535304180           20        RL           68      7922   Pave    NA   \n",
       "3  318  916386060           60        RL           73      9802   Pave    NA   \n",
       "4  255  906425045           50        RL           82     14235   Pave    NA   \n",
       "\n",
       "  Lot Shape Land Contour  ... Screen Porch Pool Area Pool QC Fence  \\\n",
       "0       IR1          Lvl  ...            0         0      NA    NA   \n",
       "1       IR1          Lvl  ...            0         0      NA    NA   \n",
       "2       Reg          Lvl  ...            0         0      NA    NA   \n",
       "3       Reg          Lvl  ...            0         0      NA    NA   \n",
       "4       IR1          Lvl  ...            0         0      NA    NA   \n",
       "\n",
       "  Misc Feature Misc Val Mo Sold Yr Sold  Sale Type  SalePrice  \n",
       "0           NA        0       3    2010        WD      130500  \n",
       "1           NA        0       4    2009        WD      220000  \n",
       "2           NA        0       1    2010        WD      109000  \n",
       "3           NA        0       4    2010        WD      174000  \n",
       "4           NA        0       3    2010        WD      138500  \n",
       "\n",
       "[5 rows x 81 columns]"
      ]
     },
     "execution_count": 203,
     "metadata": {},
     "output_type": "execute_result"
    }
   ],
   "source": [
    "zero_columns = ['Lot Frontage', 'Garage Yr Blt', 'Mas Vnr Area', 'Bsmt Half Bath', 'Bsmt Full Bath', \n",
    "                'Garage Cars', 'Garage Area', 'Bsmt Unf SF', 'BsmtFin SF 2', 'Total Bsmt SF', 'BsmtFin SF 1']\n",
    "\n",
    "[df[x].replace(np.nan, '0.0', inplace=True) for x in zero_columns]\n",
    "\n",
    "df.head()"
   ]
  },
  {
   "cell_type": "code",
   "execution_count": 204,
   "metadata": {},
   "outputs": [
    {
     "data": {
      "text/plain": [
       "array(['BrkFace', 'NA', 'Stone', 'BrkCmn'], dtype=object)"
      ]
     },
     "execution_count": 204,
     "metadata": {},
     "output_type": "execute_result"
    }
   ],
   "source": [
    "# Converting all \"None\" values to 'NA':\n",
    "\n",
    "df.replace('None', 'NA', inplace=True)\n",
    "df['Mas Vnr Type'].unique()"
   ]
  },
  {
   "cell_type": "markdown",
   "metadata": {},
   "source": [
    "Few of the datatypes are of string type which should be converted to float"
   ]
  },
  {
   "cell_type": "code",
   "execution_count": 205,
   "metadata": {},
   "outputs": [
    {
     "data": {
      "text/plain": [
       "0       289\n",
       "1       132\n",
       "2         0\n",
       "3         0\n",
       "4         0\n",
       "       ... \n",
       "2046      0\n",
       "2047      0\n",
       "2048      0\n",
       "2049      0\n",
       "2050      0\n",
       "Name: Mas Vnr Area, Length: 2051, dtype: object"
      ]
     },
     "execution_count": 205,
     "metadata": {},
     "output_type": "execute_result"
    }
   ],
   "source": [
    "df['Mas Vnr Area']"
   ]
  },
  {
   "cell_type": "code",
   "execution_count": 206,
   "metadata": {},
   "outputs": [],
   "source": [
    "floatify = ['Lot Frontage', 'Mas Vnr Area', 'Garage Area', 'Garage Cars']\n",
    "\n",
    "for x in floatify:\n",
    "    df[x] = df[x].astype('float64', copy=False)"
   ]
  },
  {
   "cell_type": "markdown",
   "metadata": {},
   "source": [
    "Here we have lot of bathroom variables which can be converted to 1 variable or consolidated"
   ]
  },
  {
   "cell_type": "code",
   "execution_count": 207,
   "metadata": {},
   "outputs": [
    {
     "data": {
      "text/plain": [
       "['Bsmt Full Bath', 'Bsmt Half Bath', 'Full Bath', 'Half Bath']"
      ]
     },
     "execution_count": 207,
     "metadata": {},
     "output_type": "execute_result"
    }
   ],
   "source": [
    "baths = [x for x in df.columns if 'Bath' in x]\n",
    "baths"
   ]
  },
  {
   "cell_type": "code",
   "execution_count": 208,
   "metadata": {},
   "outputs": [],
   "source": [
    "df['Total Baths'] = df[baths].sum(axis=1)\n",
    "df.drop(['Full Bath', 'Half Bath', 'Bsmt Full Bath', 'Bsmt Half Bath'], axis=1, inplace=True)"
   ]
  },
  {
   "cell_type": "markdown",
   "metadata": {},
   "source": [
    "Garage varable for this One hot key encoding can be done "
   ]
  },
  {
   "cell_type": "code",
   "execution_count": 209,
   "metadata": {},
   "outputs": [],
   "source": [
    "# Creating 'Has Finished Garage' column for Finished or Rough Finished garages, and 'Has Detached Garage' column\n",
    "\n",
    "searchfor = 'Fin', 'RFn'\n",
    "df['Has Finished Garage'] = np.where(df['Garage Finish'].str.contains('|'.join(searchfor)), 1, 0)\n",
    "\n",
    "df['Detached Garage'] = np.where(df['Garage Type'].str.contains('Detchd'), 1, 0)\n",
    "\n",
    "df.drop(['Garage Finish', 'Garage Yr Blt', 'Garage Type',], axis=1, inplace=True)"
   ]
  },
  {
   "cell_type": "markdown",
   "metadata": {},
   "source": [
    "There were multiple categorical columns describing type of basement finish, so I converted these into a one-hot encoded ‘Has Finished Basement’ column and dropped the originals."
   ]
  },
  {
   "cell_type": "code",
   "execution_count": 210,
   "metadata": {},
   "outputs": [],
   "source": [
    "lookfor = 'GLQ', 'ALQ', 'BLQ', 'Rec', 'LwQ'\n",
    "\n",
    "df['Has Finished Basement'] = np.where(df['BsmtFin Type 2'].str.contains('|'.join(lookfor)), 1, 0)\n",
    "df['Has Finished Basement'] = np.where(df['BsmtFin Type 1'].str.contains('|'.join(lookfor)), 1, 0)\n",
    "\n",
    "\n",
    "df.drop(['BsmtFin Type 1', 'BsmtFin Type 2', 'Bsmt Cond', 'Bsmt Exposure'], axis=1, inplace=True)"
   ]
  },
  {
   "cell_type": "markdown",
   "metadata": {},
   "source": [
    "All columns describing square footage were added together into a single ‘Total sq ft’ column"
   ]
  },
  {
   "cell_type": "code",
   "execution_count": 211,
   "metadata": {},
   "outputs": [],
   "source": [
    "# Creating a new column of total square feet\n",
    "\n",
    "sq_ft = [x for x in df.columns if 'SF' in x]\n",
    "\n",
    "df['Total sq ft'] = df[sq_ft].sum(axis=1)"
   ]
  },
  {
   "cell_type": "markdown",
   "metadata": {},
   "source": [
    "I chose to convert this year column into ‘Age,’ as a way of addressing the nebulous relationship between year as a point in time, and year as a number."
   ]
  },
  {
   "cell_type": "code",
   "execution_count": 212,
   "metadata": {},
   "outputs": [],
   "source": [
    "\n",
    "# Converting 'Year Remod/Add' to numerical 'Is Remodeled'\n",
    "\n",
    "df['Is Remodeled'] = np.where(df['Year Remod/Add'] - df['Year Built'] > 0, 1, 0)\n",
    "df.drop(['Year Remod/Add'], axis=1, inplace=True)"
   ]
  },
  {
   "cell_type": "markdown",
   "metadata": {},
   "source": [
    "‘Pool QC’ changed to ‘Has Pool’"
   ]
  },
  {
   "cell_type": "code",
   "execution_count": 213,
   "metadata": {},
   "outputs": [],
   "source": [
    "\n",
    "# Pool\n",
    "\n",
    "df['Has Pool'] = np.where(df['Pool QC'].str.contains('NA'), 0, 1)\n",
    "df.drop(['Pool QC'], axis=1, inplace=True)"
   ]
  },
  {
   "cell_type": "markdown",
   "metadata": {},
   "source": [
    "Same for fence "
   ]
  },
  {
   "cell_type": "code",
   "execution_count": 214,
   "metadata": {},
   "outputs": [],
   "source": [
    "# Fence\n",
    "\n",
    "df['Has Fence'] = np.where(df['Fence'].str.contains('NA'), 0, 1)\n",
    "df.drop(['Fence'], axis=1, inplace=True)"
   ]
  },
  {
   "cell_type": "code",
   "execution_count": 215,
   "metadata": {},
   "outputs": [],
   "source": [
    "\n",
    "# Paved Drive\n",
    "\n",
    "df['Has Paved Drive'] = np.where(df['Paved Drive'].str.contains('N'), 0, 1)\n",
    "df.drop(['Paved Drive'], axis=1, inplace=True)"
   ]
  },
  {
   "cell_type": "code",
   "execution_count": 216,
   "metadata": {},
   "outputs": [],
   "source": [
    "# Central Air\n",
    "\n",
    "df['Has Central Air'] = np.where(df['Central Air'].str.contains('N'), 0, 1)\n",
    "df.drop(['Central Air'], axis=1, inplace=True)"
   ]
  },
  {
   "cell_type": "markdown",
   "metadata": {},
   "source": [
    "# One hot key encoding"
   ]
  },
  {
   "cell_type": "code",
   "execution_count": 217,
   "metadata": {},
   "outputs": [],
   "source": [
    "# Created dummy columns\n",
    "\n",
    "df = pd.get_dummies(df, columns = ['Lot Config', 'MS Zoning', 'Misc Feature', 'Heating QC', \n",
    "                                   'House Style', 'Bldg Type'], drop_first=True)"
   ]
  },
  {
   "cell_type": "code",
   "execution_count": 218,
   "metadata": {},
   "outputs": [],
   "source": [
    "# Quality rankings - transforming categorical vairables to ordinal ones\n",
    "\n",
    "cols = ['Bsmt Qual', 'Fireplace Qu', 'Garage Qual', 'Garage Cond', 'Exter Qual', \n",
    "        'Exter Cond', 'Kitchen Qual', 'Exter Qual', 'Exter Cond']\n",
    "\n",
    "rankings = {'NA':0, 'Po':1, 'Fa':2, 'TA':3, 'Gd':4, 'Ex':5}\n",
    "\n",
    "for x in cols:\n",
    "    df[x] = df[x].map(lambda x: rankings.get(x, x))"
   ]
  },
  {
   "cell_type": "code",
   "execution_count": 219,
   "metadata": {},
   "outputs": [],
   "source": [
    "# Turning the 'Year Built' column into 'Age'\n",
    "\n",
    "now = dt.datetime.now()\n",
    "df['Current Year'] = now.year\n",
    "df['Age'] = df['Current Year'] - df['Year Built']\n",
    "df.drop(['Current Year', 'Year Built', 'Mo Sold', 'Yr Sold', 'Misc Feature_TenC'], axis=1, inplace=True)"
   ]
  },
  {
   "cell_type": "code",
   "execution_count": 220,
   "metadata": {},
   "outputs": [],
   "source": [
    "# Dropping the remaining object columns\n",
    "\n",
    "df.drop(df.select_dtypes(include=['object']).columns, axis=1, inplace=True)"
   ]
  },
  {
   "cell_type": "code",
   "execution_count": 221,
   "metadata": {},
   "outputs": [],
   "source": [
    "# Saving the cleaned data to a .csv file \n",
    "\n",
    "df.to_csv('train_v2.csv', index=False)"
   ]
  },
  {
   "cell_type": "markdown",
   "metadata": {},
   "source": [
    "# EDA"
   ]
  },
  {
   "cell_type": "code",
   "execution_count": 222,
   "metadata": {},
   "outputs": [
    {
     "data": {
      "text/html": [
       "<div>\n",
       "<style scoped>\n",
       "    .dataframe tbody tr th:only-of-type {\n",
       "        vertical-align: middle;\n",
       "    }\n",
       "\n",
       "    .dataframe tbody tr th {\n",
       "        vertical-align: top;\n",
       "    }\n",
       "\n",
       "    .dataframe thead th {\n",
       "        text-align: right;\n",
       "    }\n",
       "</style>\n",
       "<table border=\"1\" class=\"dataframe\">\n",
       "  <thead>\n",
       "    <tr style=\"text-align: right;\">\n",
       "      <th></th>\n",
       "      <th>count</th>\n",
       "      <th>mean</th>\n",
       "      <th>std</th>\n",
       "      <th>min</th>\n",
       "      <th>25%</th>\n",
       "      <th>50%</th>\n",
       "      <th>75%</th>\n",
       "      <th>max</th>\n",
       "    </tr>\n",
       "  </thead>\n",
       "  <tbody>\n",
       "    <tr>\n",
       "      <th>Id</th>\n",
       "      <td>2051.0</td>\n",
       "      <td>1.474034e+03</td>\n",
       "      <td>8.439808e+02</td>\n",
       "      <td>1.0</td>\n",
       "      <td>753.5</td>\n",
       "      <td>1486.0</td>\n",
       "      <td>2198.0</td>\n",
       "      <td>2930.0</td>\n",
       "    </tr>\n",
       "    <tr>\n",
       "      <th>PID</th>\n",
       "      <td>2051.0</td>\n",
       "      <td>7.135900e+08</td>\n",
       "      <td>1.886918e+08</td>\n",
       "      <td>526301100.0</td>\n",
       "      <td>528458140.0</td>\n",
       "      <td>535453200.0</td>\n",
       "      <td>907180080.0</td>\n",
       "      <td>924152030.0</td>\n",
       "    </tr>\n",
       "    <tr>\n",
       "      <th>MS SubClass</th>\n",
       "      <td>2051.0</td>\n",
       "      <td>5.700878e+01</td>\n",
       "      <td>4.282422e+01</td>\n",
       "      <td>20.0</td>\n",
       "      <td>20.0</td>\n",
       "      <td>50.0</td>\n",
       "      <td>70.0</td>\n",
       "      <td>190.0</td>\n",
       "    </tr>\n",
       "    <tr>\n",
       "      <th>Lot Frontage</th>\n",
       "      <td>2051.0</td>\n",
       "      <td>5.794442e+01</td>\n",
       "      <td>3.313733e+01</td>\n",
       "      <td>0.0</td>\n",
       "      <td>43.5</td>\n",
       "      <td>63.0</td>\n",
       "      <td>78.0</td>\n",
       "      <td>313.0</td>\n",
       "    </tr>\n",
       "    <tr>\n",
       "      <th>Lot Area</th>\n",
       "      <td>2051.0</td>\n",
       "      <td>1.006521e+04</td>\n",
       "      <td>6.742489e+03</td>\n",
       "      <td>1300.0</td>\n",
       "      <td>7500.0</td>\n",
       "      <td>9430.0</td>\n",
       "      <td>11513.5</td>\n",
       "      <td>159000.0</td>\n",
       "    </tr>\n",
       "    <tr>\n",
       "      <th>Overall Qual</th>\n",
       "      <td>2051.0</td>\n",
       "      <td>6.112140e+00</td>\n",
       "      <td>1.426271e+00</td>\n",
       "      <td>1.0</td>\n",
       "      <td>5.0</td>\n",
       "      <td>6.0</td>\n",
       "      <td>7.0</td>\n",
       "      <td>10.0</td>\n",
       "    </tr>\n",
       "    <tr>\n",
       "      <th>Overall Cond</th>\n",
       "      <td>2051.0</td>\n",
       "      <td>5.562165e+00</td>\n",
       "      <td>1.104497e+00</td>\n",
       "      <td>1.0</td>\n",
       "      <td>5.0</td>\n",
       "      <td>5.0</td>\n",
       "      <td>6.0</td>\n",
       "      <td>9.0</td>\n",
       "    </tr>\n",
       "    <tr>\n",
       "      <th>Mas Vnr Area</th>\n",
       "      <td>2051.0</td>\n",
       "      <td>9.862652e+01</td>\n",
       "      <td>1.743247e+02</td>\n",
       "      <td>0.0</td>\n",
       "      <td>0.0</td>\n",
       "      <td>0.0</td>\n",
       "      <td>159.0</td>\n",
       "      <td>1600.0</td>\n",
       "    </tr>\n",
       "    <tr>\n",
       "      <th>Exter Qual</th>\n",
       "      <td>2051.0</td>\n",
       "      <td>3.406143e+00</td>\n",
       "      <td>5.879616e-01</td>\n",
       "      <td>2.0</td>\n",
       "      <td>3.0</td>\n",
       "      <td>3.0</td>\n",
       "      <td>4.0</td>\n",
       "      <td>5.0</td>\n",
       "    </tr>\n",
       "    <tr>\n",
       "      <th>Exter Cond</th>\n",
       "      <td>2051.0</td>\n",
       "      <td>3.085812e+00</td>\n",
       "      <td>3.727924e-01</td>\n",
       "      <td>1.0</td>\n",
       "      <td>3.0</td>\n",
       "      <td>3.0</td>\n",
       "      <td>3.0</td>\n",
       "      <td>5.0</td>\n",
       "    </tr>\n",
       "    <tr>\n",
       "      <th>Bsmt Qual</th>\n",
       "      <td>2051.0</td>\n",
       "      <td>3.490005e+00</td>\n",
       "      <td>9.016368e-01</td>\n",
       "      <td>0.0</td>\n",
       "      <td>3.0</td>\n",
       "      <td>4.0</td>\n",
       "      <td>4.0</td>\n",
       "      <td>5.0</td>\n",
       "    </tr>\n",
       "    <tr>\n",
       "      <th>1st Flr SF</th>\n",
       "      <td>2051.0</td>\n",
       "      <td>1.164488e+03</td>\n",
       "      <td>3.964469e+02</td>\n",
       "      <td>334.0</td>\n",
       "      <td>879.5</td>\n",
       "      <td>1093.0</td>\n",
       "      <td>1405.0</td>\n",
       "      <td>5095.0</td>\n",
       "    </tr>\n",
       "    <tr>\n",
       "      <th>2nd Flr SF</th>\n",
       "      <td>2051.0</td>\n",
       "      <td>3.293291e+02</td>\n",
       "      <td>4.256710e+02</td>\n",
       "      <td>0.0</td>\n",
       "      <td>0.0</td>\n",
       "      <td>0.0</td>\n",
       "      <td>692.5</td>\n",
       "      <td>1862.0</td>\n",
       "    </tr>\n",
       "    <tr>\n",
       "      <th>Low Qual Fin SF</th>\n",
       "      <td>2051.0</td>\n",
       "      <td>5.512921e+00</td>\n",
       "      <td>5.106887e+01</td>\n",
       "      <td>0.0</td>\n",
       "      <td>0.0</td>\n",
       "      <td>0.0</td>\n",
       "      <td>0.0</td>\n",
       "      <td>1064.0</td>\n",
       "    </tr>\n",
       "    <tr>\n",
       "      <th>Gr Liv Area</th>\n",
       "      <td>2051.0</td>\n",
       "      <td>1.499330e+03</td>\n",
       "      <td>5.004478e+02</td>\n",
       "      <td>334.0</td>\n",
       "      <td>1129.0</td>\n",
       "      <td>1444.0</td>\n",
       "      <td>1728.5</td>\n",
       "      <td>5642.0</td>\n",
       "    </tr>\n",
       "    <tr>\n",
       "      <th>Bedroom AbvGr</th>\n",
       "      <td>2051.0</td>\n",
       "      <td>2.843491e+00</td>\n",
       "      <td>8.266183e-01</td>\n",
       "      <td>0.0</td>\n",
       "      <td>2.0</td>\n",
       "      <td>3.0</td>\n",
       "      <td>3.0</td>\n",
       "      <td>8.0</td>\n",
       "    </tr>\n",
       "    <tr>\n",
       "      <th>Kitchen AbvGr</th>\n",
       "      <td>2051.0</td>\n",
       "      <td>1.042906e+00</td>\n",
       "      <td>2.097900e-01</td>\n",
       "      <td>0.0</td>\n",
       "      <td>1.0</td>\n",
       "      <td>1.0</td>\n",
       "      <td>1.0</td>\n",
       "      <td>3.0</td>\n",
       "    </tr>\n",
       "    <tr>\n",
       "      <th>Kitchen Qual</th>\n",
       "      <td>2051.0</td>\n",
       "      <td>3.517309e+00</td>\n",
       "      <td>6.655772e-01</td>\n",
       "      <td>2.0</td>\n",
       "      <td>3.0</td>\n",
       "      <td>3.0</td>\n",
       "      <td>4.0</td>\n",
       "      <td>5.0</td>\n",
       "    </tr>\n",
       "    <tr>\n",
       "      <th>TotRms AbvGrd</th>\n",
       "      <td>2051.0</td>\n",
       "      <td>6.435885e+00</td>\n",
       "      <td>1.560225e+00</td>\n",
       "      <td>2.0</td>\n",
       "      <td>5.0</td>\n",
       "      <td>6.0</td>\n",
       "      <td>7.0</td>\n",
       "      <td>15.0</td>\n",
       "    </tr>\n",
       "    <tr>\n",
       "      <th>Fireplaces</th>\n",
       "      <td>2051.0</td>\n",
       "      <td>5.909313e-01</td>\n",
       "      <td>6.385163e-01</td>\n",
       "      <td>0.0</td>\n",
       "      <td>0.0</td>\n",
       "      <td>1.0</td>\n",
       "      <td>1.0</td>\n",
       "      <td>4.0</td>\n",
       "    </tr>\n",
       "  </tbody>\n",
       "</table>\n",
       "</div>"
      ],
      "text/plain": [
       "                  count          mean           std          min          25%  \\\n",
       "Id               2051.0  1.474034e+03  8.439808e+02          1.0        753.5   \n",
       "PID              2051.0  7.135900e+08  1.886918e+08  526301100.0  528458140.0   \n",
       "MS SubClass      2051.0  5.700878e+01  4.282422e+01         20.0         20.0   \n",
       "Lot Frontage     2051.0  5.794442e+01  3.313733e+01          0.0         43.5   \n",
       "Lot Area         2051.0  1.006521e+04  6.742489e+03       1300.0       7500.0   \n",
       "Overall Qual     2051.0  6.112140e+00  1.426271e+00          1.0          5.0   \n",
       "Overall Cond     2051.0  5.562165e+00  1.104497e+00          1.0          5.0   \n",
       "Mas Vnr Area     2051.0  9.862652e+01  1.743247e+02          0.0          0.0   \n",
       "Exter Qual       2051.0  3.406143e+00  5.879616e-01          2.0          3.0   \n",
       "Exter Cond       2051.0  3.085812e+00  3.727924e-01          1.0          3.0   \n",
       "Bsmt Qual        2051.0  3.490005e+00  9.016368e-01          0.0          3.0   \n",
       "1st Flr SF       2051.0  1.164488e+03  3.964469e+02        334.0        879.5   \n",
       "2nd Flr SF       2051.0  3.293291e+02  4.256710e+02          0.0          0.0   \n",
       "Low Qual Fin SF  2051.0  5.512921e+00  5.106887e+01          0.0          0.0   \n",
       "Gr Liv Area      2051.0  1.499330e+03  5.004478e+02        334.0       1129.0   \n",
       "Bedroom AbvGr    2051.0  2.843491e+00  8.266183e-01          0.0          2.0   \n",
       "Kitchen AbvGr    2051.0  1.042906e+00  2.097900e-01          0.0          1.0   \n",
       "Kitchen Qual     2051.0  3.517309e+00  6.655772e-01          2.0          3.0   \n",
       "TotRms AbvGrd    2051.0  6.435885e+00  1.560225e+00          2.0          5.0   \n",
       "Fireplaces       2051.0  5.909313e-01  6.385163e-01          0.0          0.0   \n",
       "\n",
       "                         50%          75%          max  \n",
       "Id                    1486.0       2198.0       2930.0  \n",
       "PID              535453200.0  907180080.0  924152030.0  \n",
       "MS SubClass             50.0         70.0        190.0  \n",
       "Lot Frontage            63.0         78.0        313.0  \n",
       "Lot Area              9430.0      11513.5     159000.0  \n",
       "Overall Qual             6.0          7.0         10.0  \n",
       "Overall Cond             5.0          6.0          9.0  \n",
       "Mas Vnr Area             0.0        159.0       1600.0  \n",
       "Exter Qual               3.0          4.0          5.0  \n",
       "Exter Cond               3.0          3.0          5.0  \n",
       "Bsmt Qual                4.0          4.0          5.0  \n",
       "1st Flr SF            1093.0       1405.0       5095.0  \n",
       "2nd Flr SF               0.0        692.5       1862.0  \n",
       "Low Qual Fin SF          0.0          0.0       1064.0  \n",
       "Gr Liv Area           1444.0       1728.5       5642.0  \n",
       "Bedroom AbvGr            3.0          3.0          8.0  \n",
       "Kitchen AbvGr            1.0          1.0          3.0  \n",
       "Kitchen Qual             3.0          4.0          5.0  \n",
       "TotRms AbvGrd            6.0          7.0         15.0  \n",
       "Fireplaces               1.0          1.0          4.0  "
      ]
     },
     "execution_count": 222,
     "metadata": {},
     "output_type": "execute_result"
    }
   ],
   "source": [
    "df.describe().T.head(20)"
   ]
  },
  {
   "cell_type": "code",
   "execution_count": 223,
   "metadata": {},
   "outputs": [
    {
     "data": {
      "image/png": "[encoded data removed]",
      "text/plain": [
       "<Figure size 720x576 with 1 Axes>"
      ]
     },
     "metadata": {
      "needs_background": "light"
     },
     "output_type": "display_data"
    }
   ],
   "source": [
    "sns.set_color_codes(\"deep\")\n",
    "plt.figure(figsize=(10, 8))\n",
    "sns.distplot(df['SalePrice'], kde_kws={\"color\": \"g\", \"lw\": 3, \"label\": \"KDE\"},\n",
    "                              hist_kws={\"alpha\": 1, \"color\": \"b\"})\n",
    "plt.title(\"Sale Price Distribution\", fontsize=20);"
   ]
  },
  {
   "cell_type": "code",
   "execution_count": 224,
   "metadata": {},
   "outputs": [
    {
     "data": {
      "image/png": "[encoded data removed]",
      "text/plain": [
       "<Figure size 720x576 with 1 Axes>"
      ]
     },
     "metadata": {
      "needs_background": "light"
     },
     "output_type": "display_data"
    }
   ],
   "source": [
    "predictors = df.corr()[['SalePrice']].sort_values('SalePrice', ascending=False)\n",
    "corr_df = pd.DataFrame(predictors.iloc[1:11])\n",
    "\n",
    "plt.figure(figsize=(10, 8))\n",
    "sns.barplot( corr_df['SalePrice'], corr_df.index, palette='husl')\n",
    "plt.title('Top 10 Predictors of Home Price', fontsize=20)\n",
    "plt.xlabel('Correlation w/SalePrice', fontsize=16)\n",
    "plt.ylabel('Variable', fontsize=16)\n",
    "plt.show()"
   ]
  },
  {
   "cell_type": "code",
   "execution_count": 225,
   "metadata": {},
   "outputs": [
    {
     "data": {
      "text/plain": [
       "Overall Qual    0.800207\n",
       "Total sq ft     0.718975\n",
       "Exter Qual      0.712146\n",
       "Gr Liv Area     0.697038\n",
       "Kitchen Qual    0.692336\n",
       "Garage Area     0.649897\n",
       "Garage Cars     0.647781\n",
       "1st Flr SF      0.618486\n",
       "Bsmt Qual       0.612188\n",
       "Total Baths     0.547758\n",
       "Name: SalePrice, dtype: float64"
      ]
     },
     "execution_count": 225,
     "metadata": {},
     "output_type": "execute_result"
    }
   ],
   "source": [
    "corr_df['SalePrice']"
   ]
  },
  {
   "cell_type": "code",
   "execution_count": 226,
   "metadata": {},
   "outputs": [
    {
     "data": {
      "text/plain": [
       "Text(0.5, 1.0, 'Overall Quality Rating vs Sale Price')"
      ]
     },
     "execution_count": 226,
     "metadata": {},
     "output_type": "execute_result"
    },
    {
     "data": {
      "image/png": "[encoded data removed]",
      "text/plain": [
       "<Figure size 720x576 with 1 Axes>"
      ]
     },
     "metadata": {
      "needs_background": "light"
     },
     "output_type": "display_data"
    }
   ],
   "source": [
    "plt.figure(figsize=(10, 8))\n",
    "sns.scatterplot(x='SalePrice', y='Overall Qual', data=df)\n",
    "plt.title('Overall Quality Rating vs Sale Price', fontsize=20)"
   ]
  },
  {
   "cell_type": "code",
   "execution_count": 227,
   "metadata": {},
   "outputs": [
    {
     "data": {
      "text/plain": [
       "Text(0.5, 1.0, 'Total Square Footage vs Sale Price')"
      ]
     },
     "execution_count": 227,
     "metadata": {},
     "output_type": "execute_result"
    },
    {
     "data": {
      "image/png": "[encoded data removed]",
      "text/plain": [
       "<Figure size 720x576 with 1 Axes>"
      ]
     },
     "metadata": {
      "needs_background": "light"
     },
     "output_type": "display_data"
    }
   ],
   "source": [
    "\n",
    "plt.figure(figsize=(10, 8))\n",
    "sns.scatterplot(x='SalePrice', y='Total sq ft', data=df)\n",
    "plt.title('Total Square Footage vs Sale Price', fontsize=20)"
   ]
  },
  {
   "cell_type": "code",
   "execution_count": 228,
   "metadata": {},
   "outputs": [
    {
     "data": {
      "text/plain": [
       "Text(0.5, 1.0, 'Exterior Quality Rating vs Sale Price')"
      ]
     },
     "execution_count": 228,
     "metadata": {},
     "output_type": "execute_result"
    },
    {
     "data": {
      "image/png": "[encoded data removed]",
      "text/plain": [
       "<Figure size 720x576 with 1 Axes>"
      ]
     },
     "metadata": {
      "needs_background": "light"
     },
     "output_type": "display_data"
    }
   ],
   "source": [
    "plt.figure(figsize=(10, 8))\n",
    "sns.scatterplot(x='SalePrice', y='Exter Qual', data=df)\n",
    "plt.title('Exterior Quality Rating vs Sale Price', fontsize=20)"
   ]
  },
  {
   "cell_type": "markdown",
   "metadata": {},
   "source": [
    "# Modeling building & Evaluation"
   ]
  },
  {
   "cell_type": "code",
   "execution_count": 229,
   "metadata": {},
   "outputs": [
    {
     "data": {
      "text/html": [
       "<div>\n",
       "<style scoped>\n",
       "    .dataframe tbody tr th:only-of-type {\n",
       "        vertical-align: middle;\n",
       "    }\n",
       "\n",
       "    .dataframe tbody tr th {\n",
       "        vertical-align: top;\n",
       "    }\n",
       "\n",
       "    .dataframe thead th {\n",
       "        text-align: right;\n",
       "    }\n",
       "</style>\n",
       "<table border=\"1\" class=\"dataframe\">\n",
       "  <thead>\n",
       "    <tr style=\"text-align: right;\">\n",
       "      <th></th>\n",
       "      <th>Id</th>\n",
       "      <th>PID</th>\n",
       "      <th>MS SubClass</th>\n",
       "      <th>Lot Frontage</th>\n",
       "      <th>Lot Area</th>\n",
       "      <th>Street</th>\n",
       "      <th>Alley</th>\n",
       "      <th>Lot Shape</th>\n",
       "      <th>Land Contour</th>\n",
       "      <th>Utilities</th>\n",
       "      <th>...</th>\n",
       "      <th>House Style_2.5Fin</th>\n",
       "      <th>House Style_2.5Unf</th>\n",
       "      <th>House Style_2Story</th>\n",
       "      <th>House Style_SFoyer</th>\n",
       "      <th>House Style_SLvl</th>\n",
       "      <th>Bldg Type_2fmCon</th>\n",
       "      <th>Bldg Type_Duplex</th>\n",
       "      <th>Bldg Type_Twnhs</th>\n",
       "      <th>Bldg Type_TwnhsE</th>\n",
       "      <th>Age</th>\n",
       "    </tr>\n",
       "  </thead>\n",
       "  <tbody>\n",
       "    <tr>\n",
       "      <th>0</th>\n",
       "      <td>109</td>\n",
       "      <td>533352170</td>\n",
       "      <td>60</td>\n",
       "      <td>0.0</td>\n",
       "      <td>13517</td>\n",
       "      <td>Pave</td>\n",
       "      <td>NaN</td>\n",
       "      <td>IR1</td>\n",
       "      <td>Lvl</td>\n",
       "      <td>AllPub</td>\n",
       "      <td>...</td>\n",
       "      <td>0</td>\n",
       "      <td>0</td>\n",
       "      <td>1</td>\n",
       "      <td>0</td>\n",
       "      <td>0</td>\n",
       "      <td>0</td>\n",
       "      <td>0</td>\n",
       "      <td>0</td>\n",
       "      <td>0</td>\n",
       "      <td>42</td>\n",
       "    </tr>\n",
       "    <tr>\n",
       "      <th>1</th>\n",
       "      <td>544</td>\n",
       "      <td>531379050</td>\n",
       "      <td>60</td>\n",
       "      <td>43.0</td>\n",
       "      <td>11492</td>\n",
       "      <td>Pave</td>\n",
       "      <td>NaN</td>\n",
       "      <td>IR1</td>\n",
       "      <td>Lvl</td>\n",
       "      <td>AllPub</td>\n",
       "      <td>...</td>\n",
       "      <td>0</td>\n",
       "      <td>0</td>\n",
       "      <td>1</td>\n",
       "      <td>0</td>\n",
       "      <td>0</td>\n",
       "      <td>0</td>\n",
       "      <td>0</td>\n",
       "      <td>0</td>\n",
       "      <td>0</td>\n",
       "      <td>22</td>\n",
       "    </tr>\n",
       "    <tr>\n",
       "      <th>2</th>\n",
       "      <td>153</td>\n",
       "      <td>535304180</td>\n",
       "      <td>20</td>\n",
       "      <td>68.0</td>\n",
       "      <td>7922</td>\n",
       "      <td>Pave</td>\n",
       "      <td>NaN</td>\n",
       "      <td>Reg</td>\n",
       "      <td>Lvl</td>\n",
       "      <td>AllPub</td>\n",
       "      <td>...</td>\n",
       "      <td>0</td>\n",
       "      <td>0</td>\n",
       "      <td>0</td>\n",
       "      <td>0</td>\n",
       "      <td>0</td>\n",
       "      <td>0</td>\n",
       "      <td>0</td>\n",
       "      <td>0</td>\n",
       "      <td>0</td>\n",
       "      <td>65</td>\n",
       "    </tr>\n",
       "    <tr>\n",
       "      <th>3</th>\n",
       "      <td>318</td>\n",
       "      <td>916386060</td>\n",
       "      <td>60</td>\n",
       "      <td>73.0</td>\n",
       "      <td>9802</td>\n",
       "      <td>Pave</td>\n",
       "      <td>NaN</td>\n",
       "      <td>Reg</td>\n",
       "      <td>Lvl</td>\n",
       "      <td>AllPub</td>\n",
       "      <td>...</td>\n",
       "      <td>0</td>\n",
       "      <td>0</td>\n",
       "      <td>1</td>\n",
       "      <td>0</td>\n",
       "      <td>0</td>\n",
       "      <td>0</td>\n",
       "      <td>0</td>\n",
       "      <td>0</td>\n",
       "      <td>0</td>\n",
       "      <td>12</td>\n",
       "    </tr>\n",
       "    <tr>\n",
       "      <th>4</th>\n",
       "      <td>255</td>\n",
       "      <td>906425045</td>\n",
       "      <td>50</td>\n",
       "      <td>82.0</td>\n",
       "      <td>14235</td>\n",
       "      <td>Pave</td>\n",
       "      <td>NaN</td>\n",
       "      <td>IR1</td>\n",
       "      <td>Lvl</td>\n",
       "      <td>AllPub</td>\n",
       "      <td>...</td>\n",
       "      <td>0</td>\n",
       "      <td>0</td>\n",
       "      <td>0</td>\n",
       "      <td>0</td>\n",
       "      <td>0</td>\n",
       "      <td>0</td>\n",
       "      <td>0</td>\n",
       "      <td>0</td>\n",
       "      <td>0</td>\n",
       "      <td>118</td>\n",
       "    </tr>\n",
       "  </tbody>\n",
       "</table>\n",
       "<p>5 rows × 96 columns</p>\n",
       "</div>"
      ],
      "text/plain": [
       "    Id        PID  MS SubClass  Lot Frontage  Lot Area Street Alley Lot Shape  \\\n",
       "0  109  533352170           60           0.0     13517   Pave   NaN       IR1   \n",
       "1  544  531379050           60          43.0     11492   Pave   NaN       IR1   \n",
       "2  153  535304180           20          68.0      7922   Pave   NaN       Reg   \n",
       "3  318  916386060           60          73.0      9802   Pave   NaN       Reg   \n",
       "4  255  906425045           50          82.0     14235   Pave   NaN       IR1   \n",
       "\n",
       "  Land Contour Utilities  ... House Style_2.5Fin House Style_2.5Unf  \\\n",
       "0          Lvl    AllPub  ...                  0                  0   \n",
       "1          Lvl    AllPub  ...                  0                  0   \n",
       "2          Lvl    AllPub  ...                  0                  0   \n",
       "3          Lvl    AllPub  ...                  0                  0   \n",
       "4          Lvl    AllPub  ...                  0                  0   \n",
       "\n",
       "  House Style_2Story House Style_SFoyer  House Style_SLvl  Bldg Type_2fmCon  \\\n",
       "0                  1                  0                 0                 0   \n",
       "1                  1                  0                 0                 0   \n",
       "2                  0                  0                 0                 0   \n",
       "3                  1                  0                 0                 0   \n",
       "4                  0                  0                 0                 0   \n",
       "\n",
       "  Bldg Type_Duplex Bldg Type_Twnhs Bldg Type_TwnhsE  Age  \n",
       "0                0               0                0   42  \n",
       "1                0               0                0   22  \n",
       "2                0               0                0   65  \n",
       "3                0               0                0   12  \n",
       "4                0               0                0  118  \n",
       "\n",
       "[5 rows x 96 columns]"
      ]
     },
     "execution_count": 229,
     "metadata": {},
     "output_type": "execute_result"
    }
   ],
   "source": [
    "df=pd.read_csv('https://raw.githubusercontent.com/vgiannotta/Analysis-and-Prediction-of-Home-Prices/master/datasets/train_v2.csv')\n",
    "df.head()"
   ]
  },
  {
   "cell_type": "markdown",
   "metadata": {},
   "source": [
    "#  Preprocessing of data"
   ]
  },
  {
   "cell_type": "code",
   "execution_count": 230,
   "metadata": {},
   "outputs": [
    {
     "data": {
      "text/plain": [
       "<matplotlib.axes._subplots.AxesSubplot at 0x20be1bdd8b0>"
      ]
     },
     "execution_count": 230,
     "metadata": {},
     "output_type": "execute_result"
    },
    {
     "data": {
      "image/png": "[encoded data removed]",
      "text/plain": [
       "<Figure size 576x864 with 2 Axes>"
      ]
     },
     "metadata": {
      "needs_background": "light"
     },
     "output_type": "display_data"
    }
   ],
   "source": [
    "# Selecting the best variables and setting them as predictors for the model\n",
    "\n",
    "correlations = df.corr()['SalePrice'][df.corr()['SalePrice'] >= 0]\n",
    "corr_list = [x for x in correlations.index if x != 'SalePrice']\n",
    "\n",
    "plt.figure(figsize=(8, 12))\n",
    "sns.heatmap(correlations.to_frame().sort_values('SalePrice', ascending=False), annot=True)"
   ]
  },
  {
   "cell_type": "markdown",
   "metadata": {},
   "source": [
    "Train Test Split"
   ]
  },
  {
   "cell_type": "code",
   "execution_count": 231,
   "metadata": {},
   "outputs": [],
   "source": [
    "X = df[corr_list]\n",
    "y = df['SalePrice']\n",
    "\n",
    "\n",
    "X_train,X_test,y_train,y_test=train_test_split(X,y,test_size=0.20,random_state=42)"
   ]
  },
  {
   "cell_type": "markdown",
   "metadata": {},
   "source": [
    "Linear Regression Algorithm"
   ]
  },
  {
   "cell_type": "code",
   "execution_count": 232,
   "metadata": {},
   "outputs": [],
   "source": [
    "lm=LinearRegression()"
   ]
  },
  {
   "cell_type": "code",
   "execution_count": 233,
   "metadata": {},
   "outputs": [],
   "source": [
    "model=lm.fit(X_train,y_train)"
   ]
  },
  {
   "cell_type": "code",
   "execution_count": 234,
   "metadata": {},
   "outputs": [
    {
     "name": "stdout",
     "output_type": "stream",
     "text": [
      "\u001b[1mIntercept: \u001b[0m -171914.09991355156\n",
      "\u001b[1mCoefficients: \u001b[0m [ 7.03992503e+01  6.26099430e-01  1.27904310e+04  2.57015453e+01\n",
      "  1.98060562e+04  4.55610217e+02  8.66060926e+03  6.20055133e+00\n",
      "  3.03578182e-01 -4.58603555e+00  1.91809393e+00  3.79153495e+01\n",
      "  2.89092844e+01 -9.86234494e-01 -2.94200572e+03  1.38190803e+04\n",
      "  3.55042291e+03 -3.12852797e+03  4.12985288e+03  8.18849852e+03\n",
      "  1.43174041e+01  1.97926795e+03 -7.31763014e+03  1.79407036e+01\n",
      " -1.50254332e+01  4.14401678e+01  8.85505966e+01  1.72443404e+01\n",
      "  2.51678693e+03  2.26557765e+03  1.00101338e+04  1.92903579e+00\n",
      " -7.40739118e+04  3.23360814e+03  1.92215875e+03  1.47842488e+04\n",
      "  1.29284496e+02  5.01162323e+03  4.50504177e+03  9.97796077e+03\n",
      "  5.03612280e+04 -5.80560800e+03 -7.92473192e+03 -1.42552496e+04]\n",
      "\u001b[1mR^2:\u001b[0m 0.8633601690840299\n",
      "\u001b[1mAccuracy:\u001b[0m 86.41150802038749\n",
      "\u001b[1mRoot Mean Squared Error:\u001b[0m 28492.940747953413\n",
      "\u001b[1mAdj_r2:\u001b[0m 0.846933522744405\n"
     ]
    }
   ],
   "source": [
    "print(\"\\033[1mIntercept: \\033[0m\",model.intercept_)\n",
    "print(\"\\033[1mCoefficients: \\033[0m\",model.coef_)\n",
    "\n",
    "pred=model.predict(X_test)\n",
    "\n",
    "print('\\033[1mR^2:\\033[0m', r2_score(y_test, pred))\n",
    "\n",
    "accuracy=(explained_variance_score(y_test,pred))*100\n",
    "print('\\033[1mAccuracy:\\033[0m',accuracy)\n",
    "R2=r2_score(y_test, pred)\n",
    "print('\\033[1mRoot Mean Squared Error:\\033[0m',rmse(y_test, pred))\n",
    "Adj_r2 = 1 - (1-R2)*(len(y_test)-1)/(len(y_test)- X_test.shape[1]-1)\n",
    "print('\\033[1mAdj_r2:\\033[0m',Adj_r2)\n",
    "residuals=np.array(y_test-pred)"
   ]
  },
  {
   "cell_type": "code",
   "execution_count": 235,
   "metadata": {},
   "outputs": [],
   "source": [
    "comp = pd.DataFrame(columns=['Model_Name', 'R-Squared', 'Adj. R-Squared'])"
   ]
  },
  {
   "cell_type": "code",
   "execution_count": 236,
   "metadata": {},
   "outputs": [],
   "source": [
    "a = pd.Series({\n",
    "                     'Model_Name': \"Linear regression\",\n",
    "                     'R-Squared': r2_score(y_test, pred),\n",
    "                     'Adj. R-Squared': Adj_r2     \n",
    "                   })"
   ]
  },
  {
   "cell_type": "code",
   "execution_count": 237,
   "metadata": {},
   "outputs": [
    {
     "data": {
      "text/html": [
       "<div>\n",
       "<style scoped>\n",
       "    .dataframe tbody tr th:only-of-type {\n",
       "        vertical-align: middle;\n",
       "    }\n",
       "\n",
       "    .dataframe tbody tr th {\n",
       "        vertical-align: top;\n",
       "    }\n",
       "\n",
       "    .dataframe thead th {\n",
       "        text-align: right;\n",
       "    }\n",
       "</style>\n",
       "<table border=\"1\" class=\"dataframe\">\n",
       "  <thead>\n",
       "    <tr style=\"text-align: right;\">\n",
       "      <th></th>\n",
       "      <th>Model_Name</th>\n",
       "      <th>R-Squared</th>\n",
       "      <th>Adj. R-Squared</th>\n",
       "    </tr>\n",
       "  </thead>\n",
       "  <tbody>\n",
       "    <tr>\n",
       "      <th>0</th>\n",
       "      <td>Linear regression</td>\n",
       "      <td>0.86336</td>\n",
       "      <td>0.846934</td>\n",
       "    </tr>\n",
       "  </tbody>\n",
       "</table>\n",
       "</div>"
      ],
      "text/plain": [
       "          Model_Name  R-Squared  Adj. R-Squared\n",
       "0  Linear regression    0.86336        0.846934"
      ]
     },
     "execution_count": 237,
     "metadata": {},
     "output_type": "execute_result"
    }
   ],
   "source": [
    "comp = comp.append(a, ignore_index=True)\n",
    "\n",
    "# print the result table\n",
    "comp"
   ]
  },
  {
   "cell_type": "markdown",
   "metadata": {},
   "source": [
    "# Data scaling "
   ]
  },
  {
   "cell_type": "code",
   "execution_count": 238,
   "metadata": {},
   "outputs": [],
   "source": [
    "ss = StandardScaler()\n",
    "ss.fit(X_train)\n",
    "\n",
    "X_train_sc = ss.transform(X_train)\n",
    "X_test_sc = ss.transform(X_test)\n"
   ]
  },
  {
   "cell_type": "code",
   "execution_count": 239,
   "metadata": {},
   "outputs": [],
   "source": [
    "X_train_sc,X_test_sc,y_train,y_test=train_test_split(X,y,test_size=0.20,random_state=42)"
   ]
  },
  {
   "cell_type": "code",
   "execution_count": 240,
   "metadata": {},
   "outputs": [],
   "source": [
    "model=lm.fit(X_train_sc,y_train)"
   ]
  },
  {
   "cell_type": "code",
   "execution_count": 241,
   "metadata": {},
   "outputs": [
    {
     "name": "stdout",
     "output_type": "stream",
     "text": [
      "\u001b[1mIntercept: \u001b[0m -171914.09991355156\n",
      "\u001b[1mCoefficients: \u001b[0m [ 7.03992503e+01  6.26099430e-01  1.27904310e+04  2.57015453e+01\n",
      "  1.98060562e+04  4.55610217e+02  8.66060926e+03  6.20055133e+00\n",
      "  3.03578182e-01 -4.58603555e+00  1.91809393e+00  3.79153495e+01\n",
      "  2.89092844e+01 -9.86234494e-01 -2.94200572e+03  1.38190803e+04\n",
      "  3.55042291e+03 -3.12852797e+03  4.12985288e+03  8.18849852e+03\n",
      "  1.43174041e+01  1.97926795e+03 -7.31763014e+03  1.79407036e+01\n",
      " -1.50254332e+01  4.14401678e+01  8.85505966e+01  1.72443404e+01\n",
      "  2.51678693e+03  2.26557765e+03  1.00101338e+04  1.92903579e+00\n",
      " -7.40739118e+04  3.23360814e+03  1.92215875e+03  1.47842488e+04\n",
      "  1.29284496e+02  5.01162323e+03  4.50504177e+03  9.97796077e+03\n",
      "  5.03612280e+04 -5.80560800e+03 -7.92473192e+03 -1.42552496e+04]\n",
      "\u001b[1mR^2:\u001b[0m 0.8633601690840299\n",
      "\u001b[1mAccuracy:\u001b[0m 86.41150802038749\n",
      "\u001b[1mRoot Mean Squared Error:\u001b[0m 28492.940747953413\n",
      "\u001b[1mAdj_r2:\u001b[0m 0.846933522744405\n"
     ]
    }
   ],
   "source": [
    "print(\"\\033[1mIntercept: \\033[0m\",model.intercept_)\n",
    "print(\"\\033[1mCoefficients: \\033[0m\",model.coef_)\n",
    "\n",
    "pred=model.predict(X_test_sc)\n",
    "\n",
    "print('\\033[1mR^2:\\033[0m', r2_score(y_test, pred))\n",
    "\n",
    "accuracy=(explained_variance_score(y_test,pred))*100\n",
    "print('\\033[1mAccuracy:\\033[0m',accuracy)\n",
    "R2=r2_score(y_test, pred)\n",
    "print('\\033[1mRoot Mean Squared Error:\\033[0m',rmse(y_test, pred))\n",
    "Adj_r2 = 1 - (1-R2)*(len(y_test)-1)/(len(y_test)- X_test_sc.shape[1]-1)\n",
    "print('\\033[1mAdj_r2:\\033[0m',Adj_r2)\n"
   ]
  },
  {
   "cell_type": "code",
   "execution_count": 242,
   "metadata": {
    "scrolled": true
   },
   "outputs": [
    {
     "data": {
      "image/png": "[encoded data removed]",
      "text/plain": [
       "<Figure size 1440x360 with 1 Axes>"
      ]
     },
     "metadata": {
      "needs_background": "light"
     },
     "output_type": "display_data"
    }
   ],
   "source": [
    "plt.figure(figsize=(20,5))\n",
    "x_ax = range(len(y_test))\n",
    "plt.plot(x_ax, y_test, label=\"original\")\n",
    "plt.plot(x_ax, pred, label=\"predicted\")\n",
    "plt.title(\"House Pricing\")\n",
    "plt.xlabel('X-axis')\n",
    "plt.ylabel('Y-axis')\n",
    "plt.legend(loc='best',fancybox=True, shadow=True)\n",
    "plt.grid(True)\n",
    "plt.show()"
   ]
  },
  {
   "cell_type": "code",
   "execution_count": 243,
   "metadata": {
    "scrolled": true
   },
   "outputs": [
    {
     "data": {
      "text/plain": [
       "array([123984.48199421, 227361.03850434, 291335.8339391 , 110185.92471406,\n",
       "       200776.8181133 , 365072.73834694, 180557.37009292, 274367.42036465,\n",
       "       166503.71497886,  92864.72891687, 154997.13727845, 206371.00172612,\n",
       "       170073.81136119, 109429.12918629, 103953.63023673, 107294.42198618,\n",
       "       103312.20269956, 211858.15842726, 283041.58286736, 216782.56569127,\n",
       "       237208.94010906, 198591.44052613, 145932.99684279, 114107.12407173,\n",
       "       168472.75958756, 263651.4135855 , 158328.93522715, 119564.53610152,\n",
       "       264483.99729246, 110194.74193839, 316262.73439003, 107177.74772261,\n",
       "       119948.67037915, 187954.34719368, 204686.71678471,  93607.87041093,\n",
       "       228343.69983527, 238692.69668644, 336039.27145955, 102508.67600276,\n",
       "       267937.20816267, 187437.29930705, 307444.40391105, 167451.00471301,\n",
       "        75643.55880175, 175650.58858377,  96097.27639924,  65280.50200229,\n",
       "       288537.96264768, 113085.39959128, 341636.15149993,  71998.14147799,\n",
       "       126645.53840126, 214603.52299844, 137582.95052173, 121207.93490248,\n",
       "       248170.8375106 , 208963.47030772, 121232.76922797, 158634.23388048,\n",
       "       249699.18318766,  80270.60533245, 170370.03548506, 260904.17821407,\n",
       "       191559.07218461,  51534.08509069, 267750.74623707, 237659.92123348,\n",
       "       277918.05246733, 126115.5570402 , 205362.69252918, 327987.24076354,\n",
       "       312292.87059618, 214773.74696616, 147510.87873635, 220930.57769525,\n",
       "       242326.21646826, 152931.91376389, 159704.57094716, 296826.56702311,\n",
       "       110413.5197873 , 100763.90821403, 268520.49163417, 139515.02523431,\n",
       "       117354.12540953,  99594.61288671, 102269.84165563, 233238.59368998,\n",
       "        82331.39331353, 153832.51698727, 199741.64818984, 170911.4531151 ,\n",
       "       126259.41150125, 233020.01348871, 176932.1491201 , 211271.95595537,\n",
       "       146971.60398997, 108605.5944595 , 207387.41357143, 132884.0614259 ,\n",
       "       137564.62180588, 330599.42980961,  79084.14110444, 212551.64241299,\n",
       "       157374.63820948, 133458.47765744, 100816.69155086, 123759.51431147,\n",
       "       151908.90564409, 179797.94624971,  68750.07499975, 188864.38518266,\n",
       "       113623.21685664, 311013.75442468,  96994.94236897, 279399.21838346,\n",
       "       207597.19154069, 145671.04274308, 115828.32274645, 164285.69401202,\n",
       "       214777.75820694, 125399.74293191, 268738.53897126, 139166.09817725,\n",
       "       259714.13107872, 230937.93956883, 122658.37255853, 282202.13432304,\n",
       "       219440.15299711, 121891.17761154, 195333.81217571, 122554.75864531,\n",
       "       156793.40813491, 365077.52089948, 130201.85061016, 155881.46828058,\n",
       "        91389.46048283, 146508.16000028, 170075.55660907, 174727.03136171,\n",
       "        77467.54558131,  25040.77241316, 142885.16486261,  86465.15767213,\n",
       "       262703.91143923, 213662.1793241 , 393926.20528805, 176322.65921572,\n",
       "       113083.78268035, 178014.89457553,  97219.81333391, 144988.2029352 ,\n",
       "       160902.94027647, 259072.95667519, 110958.05919091, 192834.79604366,\n",
       "       221490.90157493, 132084.56375661, 135478.38442778, 206172.98090438,\n",
       "       152479.97029184, 238509.89843638, 124660.16193389, 191511.63987016,\n",
       "        77313.82077585, 201323.43519818, 158323.87006716, 191047.5331597 ,\n",
       "       126085.41342832, 288456.62734365, 236027.71732189, 141698.52909678,\n",
       "       134295.53407436, 211722.73550639, 172035.22216489, 134633.91247521,\n",
       "       283628.47623924, 110963.56109153, 133977.19644176,  99186.3531337 ,\n",
       "       223144.14878982, 151320.49379   , 161097.22307971, 188656.45495457,\n",
       "       133472.33569603, 161394.39296879, 193958.79363712, 138725.88900937,\n",
       "       154887.38735898, 146626.62353572, 214056.16694462, 113382.45885373,\n",
       "       141338.05030658,  20429.43986412, 227534.03499336, 193420.07931547,\n",
       "        74413.57380916, 305225.40408824, 210891.92642477, 257232.87348118,\n",
       "       192157.93402465, 112637.3169329 , 194730.70817735, 154844.53496667,\n",
       "       138770.04969149, 109427.32095115, 166578.12506999, 151938.40193201,\n",
       "       113400.46511796, 215696.3377877 , 136285.25996802, 385005.53732431,\n",
       "       129681.94088564, 167186.38780286, 392115.83137756, 210799.62392071,\n",
       "       255519.43208272, 170333.70672806, 295051.03884061, 153670.64422648,\n",
       "       124545.67137855, 161431.94688752, 141544.13640095, 172382.10302483,\n",
       "        67541.15901812, 249104.42763948, 214137.77062285, 103922.88573853,\n",
       "        89978.54046653, 245400.54753315, 120100.91849684, 103880.63714159,\n",
       "       155402.86926913, 171784.94338473, 148353.21306306,  77968.80954783,\n",
       "       218173.66100948,  69741.57906776, 146163.22282811, 192045.23612731,\n",
       "       242070.72197323, 151119.677974  , 122280.77920232, 166003.83385742,\n",
       "       151959.54711775, 232910.7786099 , 348989.89524492, 202784.11970212,\n",
       "       163656.49093674, 260395.3894365 , 230039.86360062, 344842.23988528,\n",
       "       246959.0152699 , 279035.26130065, 333312.3284673 , 141986.06773027,\n",
       "       211655.47796077, 114125.10359803, 330216.51058276, 244554.28093709,\n",
       "       269276.23055682,  99373.7305368 , 202912.50935593, 199575.51632493,\n",
       "       312039.89296135, 146745.86352864, 210327.78039106, 148402.8469884 ,\n",
       "       140980.70478751, 337796.02544959, 133489.13616997, 174968.79963086,\n",
       "        78570.15869608, 266124.18225928, 172761.2718297 , 356768.76044788,\n",
       "       304889.51273271, 216582.85343658, 203619.45418655, 165049.48274228,\n",
       "        83103.34141702, 204459.1037818 , 202677.14692314, 183987.857703  ,\n",
       "        34514.78734516, 279503.76847266,  98583.77786871,  92195.656568  ,\n",
       "       121234.14595587, 184264.65768336, 208236.08422417, 172364.96675844,\n",
       "       147284.82001365, 168524.23358328, 176796.91750031, 193877.45372612,\n",
       "        85556.5999574 , 106549.94633515, 162728.79793983, 214161.88197155,\n",
       "       132602.43067517, 306928.84351129, 240512.38706939, 190918.22741542,\n",
       "       232873.40126855, 262923.18715235, 148756.18875735, 208279.65513431,\n",
       "       185775.93029231, 172215.25990587, 114543.14938558, 106679.29970868,\n",
       "       183395.78816747, 133083.20357863, 174237.9139636 , 221259.06760534,\n",
       "       202972.98644584, 162458.70969864, 255509.95824314, 168514.35863012,\n",
       "       207272.36171595, 113052.51955023, 165802.85293825, 185487.92857707,\n",
       "       207318.68611383,  95027.15700572, 148286.81428454, 176429.32987353,\n",
       "       243545.46090854,  85188.27666711, 135533.65157131, 144823.87175215,\n",
       "       208425.07391444, 304824.2772556 , 125696.91448204, 113875.49275435,\n",
       "       354829.02882191, 182056.46639167, 339465.21358666, 186670.78501708,\n",
       "       184710.17171022, 157094.86924088, 179203.09433292, 318901.54011019,\n",
       "       210890.08882425, 183395.78816747, 118375.93223608, 291704.00356104,\n",
       "        87597.65497921, 110921.48952086,  43305.84912017, 126397.40636646,\n",
       "       115715.19682441, 299033.70083357, 284796.71880502, 175633.69647295,\n",
       "       314413.00652189, 297832.93538589,  27343.89682863, 175813.67736823,\n",
       "       206768.94684191, 347109.41520157, 147614.85265776, 147543.12906726,\n",
       "       220317.93002996, 230055.31535765, 243128.11086795, 195663.38561549,\n",
       "       236883.93896174, 268152.86794129, 137938.09030722, 114441.83552755,\n",
       "       227737.83160578, 184048.07754759, 148153.27461582, 305869.59123715,\n",
       "        82522.00299312, 161765.29847692, 198668.4846353 , 147181.74055442,\n",
       "        94238.21119711, 194719.64766485, 264597.21216826, 201962.49409024,\n",
       "       237067.60877662, 115496.90313248, 157145.40793064, 234930.03135595,\n",
       "       155284.3548674 , 123087.47317801, 134056.21237373, 318349.97349826,\n",
       "       202471.63815293, 176907.58978086, 223503.02478609, 183133.58512551,\n",
       "       162621.75336259, 244094.21568386, 204550.53346402, 103215.42750146,\n",
       "       119863.91964197, 150671.90050278, 185684.41738634, 202756.97612328,\n",
       "       171960.46235912, 213622.73879329, 215532.60539585,  56045.0180126 ,\n",
       "       274878.38802953, 272267.79166416, 300154.65125849])"
      ]
     },
     "execution_count": 243,
     "metadata": {},
     "output_type": "execute_result"
    }
   ],
   "source": [
    "pred=model.predict(X_test_sc)\n",
    "pred"
   ]
  },
  {
   "cell_type": "code",
   "execution_count": 244,
   "metadata": {
    "scrolled": true
   },
   "outputs": [
    {
     "data": {
      "text/plain": [
       "array([ 8.51551801e+03, -1.36103850e+03, -4.13358339e+04,  1.78140753e+04,\n",
       "        2.38318189e+03,  2.19272617e+04, -3.10573701e+04,  4.55325796e+04,\n",
       "        1.39628502e+03,  5.13527108e+03, -2.99971373e+04,  1.86289983e+04,\n",
       "       -7.57381136e+03,  5.70870814e+02,  8.54636976e+03, -4.29442199e+03,\n",
       "       -1.38122027e+04,  1.31418416e+04,  5.96014171e+04, -1.87825657e+04,\n",
       "       -2.52089401e+04,  3.90855947e+03, -9.32996843e+02,  1.48428759e+04,\n",
       "       -2.04727596e+04,  1.13485864e+04, -3.32893523e+03,  2.14354639e+04,\n",
       "        3.51600271e+03,  1.53052581e+04,  9.36126561e+03,  4.07225228e+03,\n",
       "        4.05132962e+03, -1.79543472e+04, -1.46867168e+04, -2.60787041e+03,\n",
       "       -9.08436998e+04, -2.16926967e+04,  1.05889729e+05, -5.08676003e+02,\n",
       "       -4.59372082e+04, -2.79372993e+04, -5.44440391e+03,  1.60489953e+04,\n",
       "        9.85644120e+03, -1.26505886e+04,  2.68027236e+04,  5.12194980e+04,\n",
       "        2.84620374e+04,  2.68146004e+04,  2.93308485e+04, -3.70981415e+04,\n",
       "        4.35446160e+03, -2.46035230e+04, -5.58295052e+03, -1.63079349e+04,\n",
       "        2.18291625e+04, -2.09634703e+04,  1.66672308e+04,  5.36576612e+03,\n",
       "        1.04168168e+04,  1.12939467e+03, -2.73700355e+04, -1.59041782e+04,\n",
       "        8.34092782e+03,  3.04659149e+04,  7.24925376e+03,  7.03700788e+04,\n",
       "        3.29494753e+03,  2.08844430e+04, -3.62692529e+02, -1.98724076e+03,\n",
       "        6.07071294e+04,  3.22625303e+03,  1.74891213e+04, -4.59305777e+04,\n",
       "       -5.48262165e+04,  3.06808624e+03, -5.62045709e+04, -3.78265670e+04,\n",
       "        2.95864802e+04, -1.57639082e+04,  1.46479508e+05,  3.98497477e+03,\n",
       "        3.39587459e+03,  1.29053871e+04,  9.73015834e+03, -2.62385937e+04,\n",
       "       -9.33139331e+03,  3.66748301e+03, -2.57416482e+04, -1.79114531e+04,\n",
       "       -1.82594115e+04,  2.29799865e+04, -2.94321491e+04, -1.82719560e+04,\n",
       "       -1.89716040e+04,  2.83944055e+04, -2.33874136e+04, -5.88406143e+03,\n",
       "       -5.06462181e+03,  5.33705702e+04,  2.91585890e+03,  9.38357587e+02,\n",
       "        1.65253618e+04,  2.40415223e+04,  2.71833084e+04,  1.92404857e+04,\n",
       "        4.09109436e+03, -6.79794625e+03, -5.59610750e+04, -3.86438518e+03,\n",
       "        5.37678314e+03,  3.89862456e+04,  1.80050576e+04, -6.13992184e+04,\n",
       "        1.69028085e+04,  9.32895726e+03,  4.17167725e+03, -6.78569401e+03,\n",
       "       -2.96897582e+04,  1.86002571e+04, -2.87385390e+04, -4.16609818e+03,\n",
       "       -3.32141311e+04, -1.09379396e+04,  1.38416274e+04,  2.47978657e+04,\n",
       "       -1.28601530e+04,  2.01088224e+04, -1.18338122e+04,  1.24452414e+04,\n",
       "       -5.88440813e+03,  5.24224791e+04,  7.29814939e+03,  4.11853172e+03,\n",
       "        2.06105395e+04,  4.04918400e+04,  1.79244434e+04,  2.27296864e+03,\n",
       "        1.00324544e+04,  1.99592276e+04, -4.88516486e+03, -6.46515767e+03,\n",
       "       -3.47039114e+04, -8.66217932e+03,  5.60737947e+04, -2.63226592e+04,\n",
       "        2.91621732e+03, -2.15148946e+04,  4.58018667e+03, -8.48820294e+03,\n",
       "       -9.02940276e+02,  3.09270433e+04, -2.09580592e+04, -1.83479604e+03,\n",
       "        3.50909843e+03, -1.30845638e+04, -4.22838443e+03, -5.03379809e+04,\n",
       "       -1.89799703e+04,  1.28910156e+03, -1.66016193e+03, -2.37116399e+04,\n",
       "        1.39861792e+04,  1.26765648e+04, -5.92387007e+03, -7.04753316e+03,\n",
       "       -2.60854134e+04, -5.84566273e+04, -1.10277173e+04,  3.30147090e+03,\n",
       "       -4.29553407e+03, -5.72273551e+03, -4.70352222e+04,  3.66087525e+02,\n",
       "        2.37152376e+03, -9.63561092e+02,  8.22803558e+02, -9.68635313e+03,\n",
       "       -4.31441488e+04,  3.67950621e+03,  1.49027769e+04, -1.36564550e+04,\n",
       "       -2.54723357e+04,  3.30560703e+03, -2.69587936e+04,  3.37741110e+04,\n",
       "       -5.88738736e+03, -1.01266235e+04,  1.01868331e+04, -9.98245885e+03,\n",
       "        5.66194969e+03,  3.71955601e+04, -2.15340350e+04, -2.94300793e+04,\n",
       "        1.35864262e+04,  2.87745959e+04, -3.28919264e+04,  4.15181265e+04,\n",
       "       -1.66579340e+04,  4.86268307e+03, -1.87307082e+04, -8.44534967e+02,\n",
       "       -1.17700497e+04,  5.57267905e+03,  9.42187493e+03, -2.96884019e+04,\n",
       "        2.60995349e+04, -9.39633779e+03, -8.78525997e+03,  6.69444627e+04,\n",
       "        1.58180591e+04, -1.76863878e+04,  4.66641686e+04, -2.57996239e+04,\n",
       "       -6.61943208e+03, -1.18837067e+04, -1.85103884e+03, -3.36706442e+04,\n",
       "       -2.15456714e+04,  1.60680531e+04, -2.04413640e+03,  1.35178970e+04,\n",
       "        4.03588410e+04,  2.78955724e+04, -1.61377706e+04,  1.20771143e+04,\n",
       "        5.02145953e+03, -5.19005475e+04,  7.89908150e+03,  1.91193629e+04,\n",
       "        2.95971307e+04, -1.07849434e+04, -9.35321306e+03,  2.95311905e+04,\n",
       "       -3.36736610e+04,  1.02584209e+04,  1.18367772e+04, -3.70452361e+04,\n",
       "        1.79292780e+04,  7.88032203e+03,  7.21922080e+03, -6.00383386e+03,\n",
       "       -1.19595471e+04, -4.88107786e+04, -2.89898952e+04, -2.08841197e+04,\n",
       "       -1.71564909e+04, -4.03953894e+04, -2.71398636e+04,  1.50577601e+04,\n",
       "       -2.29590153e+04, -8.80352613e+04, -5.63123285e+04, -1.33860677e+04,\n",
       "       -3.66554780e+04, -1.91251036e+04,  1.17834894e+04, -2.77172809e+04,\n",
       "        6.57237694e+04, -6.37373054e+03, -3.94125094e+04, -3.75755163e+04,\n",
       "        3.29601070e+04, -7.74586353e+03, -5.89277804e+04, -2.19028470e+04,\n",
       "       -1.84807048e+04,  3.30819746e+04,  2.45108638e+04, -1.99687996e+04,\n",
       "        2.13298413e+04, -4.62418226e+03, -2.76127183e+03,  5.85292396e+04,\n",
       "        6.51104873e+04, -3.55828534e+04, -1.56194542e+04, -1.80494827e+04,\n",
       "        2.38966586e+04, -1.69591038e+04, -5.56771469e+04, -2.96878577e+04,\n",
       "        4.85212655e+02, -9.50376847e+03,  2.69162221e+04,  2.48043434e+04,\n",
       "        8.76585404e+03, -8.02646577e+04, -5.42360842e+04, -8.36496676e+03,\n",
       "       -4.22848200e+04, -2.35242336e+04,  6.70308250e+03, -1.18774537e+04,\n",
       "        3.44434000e+04,  1.14500537e+04,  1.82712021e+04, -4.46188197e+03,\n",
       "        9.39756932e+03,  1.29711565e+04,  4.83761293e+03, -4.14182274e+04,\n",
       "       -5.63734013e+04, -3.79231872e+04, -1.75618876e+03, -3.82796551e+04,\n",
       "       -1.37759303e+04,  7.84740094e+02,  1.54568506e+04, -6.67929971e+03,\n",
       "       -4.58957882e+04, -7.05832036e+04, -1.72379140e+04,  9.74093239e+03,\n",
       "       -3.04729864e+04, -4.25587097e+04, -1.00099582e+04,  2.04856414e+04,\n",
       "        4.98036383e+04, -1.30525196e+04, -1.98028529e+04, -2.34879286e+04,\n",
       "       -3.03186861e+04,  9.97284299e+03, -3.28681428e+03,  7.06701265e+01,\n",
       "        1.05453909e+03,  4.81172333e+03, -7.53365157e+03,  3.17612825e+03,\n",
       "        1.57492609e+03, -2.68242773e+04,  1.08030855e+04, -2.87549275e+03,\n",
       "        6.31709712e+04, -1.50564664e+04,  3.29317864e+04,  2.13292150e+04,\n",
       "        1.31898283e+04, -1.29948692e+04, -2.12030943e+04, -3.89015401e+04,\n",
       "       -2.23900888e+04, -4.93957882e+04,  1.11240678e+04, -1.98040036e+04,\n",
       "       -7.59765498e+03, -1.09214895e+04,  4.54441509e+04,  1.36025936e+04,\n",
       "        6.78480318e+03,  4.09662992e+04,  3.02032812e+04, -3.81836965e+04,\n",
       "       -1.24130065e+04, -1.00832935e+05,  3.26561032e+04, -2.33136774e+04,\n",
       "       -3.63394684e+03, -1.21094152e+04,  9.38514734e+03, -5.00431291e+04,\n",
       "       -6.31793003e+03, -1.70553154e+04,  1.17718891e+04, -1.96633856e+04,\n",
       "       -3.58839390e+04,  5.42471321e+04, -1.80380903e+04,  1.55581645e+04,\n",
       "       -1.02378316e+04,  9.09219225e+04, -9.75327462e+03,  2.41304088e+04,\n",
       "        3.64779970e+04,  2.12347015e+04, -8.11848464e+03, -7.18174055e+03,\n",
       "        3.07617888e+04, -1.07196477e+04,  2.24927878e+04, -1.34624941e+04,\n",
       "       -1.78576088e+04, -4.96903132e+02, -5.01454079e+04, -3.19300314e+04,\n",
       "       -1.42843549e+04,  2.29125268e+04, -5.55621237e+03,  2.66500265e+04,\n",
       "       -2.44716382e+04, -1.90758978e+03, -2.35030248e+04, -1.01335851e+04,\n",
       "       -2.00217534e+04,  3.59057843e+04,  2.52494665e+04,  1.47845725e+04,\n",
       "        2.26360804e+04, -1.43719005e+04, -1.14944174e+04,  3.22430239e+04,\n",
       "       -4.19604624e+04, -1.82227388e+04, -1.05326054e+04,  2.19549820e+04,\n",
       "        4.31216120e+04, -7.70679166e+03,  3.95953487e+04])"
      ]
     },
     "execution_count": 244,
     "metadata": {},
     "output_type": "execute_result"
    }
   ],
   "source": [
    "residuals=np.array(y_test-pred)\n",
    "residuals"
   ]
  },
  {
   "cell_type": "code",
   "execution_count": 245,
   "metadata": {},
   "outputs": [
    {
     "data": {
      "image/png": "[encoded data removed]",
      "text/plain": [
       "<Figure size 720x360 with 1 Axes>"
      ]
     },
     "metadata": {
      "needs_background": "light"
     },
     "output_type": "display_data"
    }
   ],
   "source": [
    "plt.figure(figsize=(10,5))\n",
    "sns.residplot(x = pred, y = residuals, color='teal')\n",
    "plt.title('Scatter Plot for predicted values and Residuals')\n",
    "plt.xlabel('predicted values')\n",
    "plt.ylabel('Residuals')\n",
    "plt.show()"
   ]
  },
  {
   "cell_type": "code",
   "execution_count": 246,
   "metadata": {},
   "outputs": [],
   "source": [
    "comp = pd.DataFrame(columns=['Model_Name', 'R-Squared', 'Adj. R-Squared'])"
   ]
  },
  {
   "cell_type": "code",
   "execution_count": 247,
   "metadata": {},
   "outputs": [],
   "source": [
    "a = pd.Series({\n",
    "                     'Model_Name': \"Linear regression after Scaling\",\n",
    "                     'R-Squared': r2_score(y_test, pred),\n",
    "                     'Adj. R-Squared': Adj_r2     \n",
    "                   })"
   ]
  },
  {
   "cell_type": "code",
   "execution_count": 248,
   "metadata": {},
   "outputs": [
    {
     "data": {
      "text/html": [
       "<div>\n",
       "<style scoped>\n",
       "    .dataframe tbody tr th:only-of-type {\n",
       "        vertical-align: middle;\n",
       "    }\n",
       "\n",
       "    .dataframe tbody tr th {\n",
       "        vertical-align: top;\n",
       "    }\n",
       "\n",
       "    .dataframe thead th {\n",
       "        text-align: right;\n",
       "    }\n",
       "</style>\n",
       "<table border=\"1\" class=\"dataframe\">\n",
       "  <thead>\n",
       "    <tr style=\"text-align: right;\">\n",
       "      <th></th>\n",
       "      <th>Model_Name</th>\n",
       "      <th>R-Squared</th>\n",
       "      <th>Adj. R-Squared</th>\n",
       "    </tr>\n",
       "  </thead>\n",
       "  <tbody>\n",
       "    <tr>\n",
       "      <th>0</th>\n",
       "      <td>Linear regression after Scaling</td>\n",
       "      <td>0.86336</td>\n",
       "      <td>0.846934</td>\n",
       "    </tr>\n",
       "  </tbody>\n",
       "</table>\n",
       "</div>"
      ],
      "text/plain": [
       "                        Model_Name  R-Squared  Adj. R-Squared\n",
       "0  Linear regression after Scaling    0.86336        0.846934"
      ]
     },
     "execution_count": 248,
     "metadata": {},
     "output_type": "execute_result"
    }
   ],
   "source": [
    "comp = comp.append(a, ignore_index=True)\n",
    "\n",
    "# print the result table\n",
    "comp"
   ]
  },
  {
   "cell_type": "code",
   "execution_count": 249,
   "metadata": {},
   "outputs": [
    {
     "data": {
      "text/plain": [
       "array([0.88823873, 0.81040419, 0.82645436, 0.8524794 , 0.70196558,\n",
       "       0.81386801, 0.86821038, 0.87828202, 0.87544491, 0.63738177])"
      ]
     },
     "execution_count": 249,
     "metadata": {},
     "output_type": "execute_result"
    }
   ],
   "source": [
    "cv = KFold(n_splits=10, random_state=1, shuffle=True)\n",
    "\n",
    "scores = cross_val_score(lm, X, y, scoring='r2',\n",
    "                         cv=cv, n_jobs=-1)\n",
    "scores"
   ]
  },
  {
   "cell_type": "code",
   "execution_count": 250,
   "metadata": {},
   "outputs": [
    {
     "name": "stdout",
     "output_type": "stream",
     "text": [
      "r2: 0.8152729366714301\n",
      "Adj_r2: 0.8112210967978224\n"
     ]
    }
   ],
   "source": [
    "R2=mean(absolute(scores))\n",
    "print(\"r2:\",mean(absolute(scores)))\n",
    "Adj_r2 = 1-(1-R2)*(X.shape[0]-1)/(X.shape[0]-X.shape[1]-1)\n",
    "print('Adj_r2:',Adj_r2)"
   ]
  },
  {
   "cell_type": "code",
   "execution_count": 251,
   "metadata": {},
   "outputs": [
    {
     "data": {
      "text/html": [
       "<div>\n",
       "<style scoped>\n",
       "    .dataframe tbody tr th:only-of-type {\n",
       "        vertical-align: middle;\n",
       "    }\n",
       "\n",
       "    .dataframe tbody tr th {\n",
       "        vertical-align: top;\n",
       "    }\n",
       "\n",
       "    .dataframe thead th {\n",
       "        text-align: right;\n",
       "    }\n",
       "</style>\n",
       "<table border=\"1\" class=\"dataframe\">\n",
       "  <thead>\n",
       "    <tr style=\"text-align: right;\">\n",
       "      <th></th>\n",
       "      <th>Model_Name</th>\n",
       "      <th>R-Squared</th>\n",
       "      <th>Adj. R-Squared</th>\n",
       "    </tr>\n",
       "  </thead>\n",
       "  <tbody>\n",
       "    <tr>\n",
       "      <th>0</th>\n",
       "      <td>Linear regression after Scaling</td>\n",
       "      <td>0.863360</td>\n",
       "      <td>0.846934</td>\n",
       "    </tr>\n",
       "    <tr>\n",
       "      <th>1</th>\n",
       "      <td>Linear regression with KFold Cross validation</td>\n",
       "      <td>0.815273</td>\n",
       "      <td>0.811221</td>\n",
       "    </tr>\n",
       "  </tbody>\n",
       "</table>\n",
       "</div>"
      ],
      "text/plain": [
       "                                      Model_Name  R-Squared  Adj. R-Squared\n",
       "0                Linear regression after Scaling   0.863360        0.846934\n",
       "1  Linear regression with KFold Cross validation   0.815273        0.811221"
      ]
     },
     "execution_count": 251,
     "metadata": {},
     "output_type": "execute_result"
    }
   ],
   "source": [
    "a = pd.Series({\n",
    "                     'Model_Name': \"Linear regression with KFold Cross validation\",\n",
    "                     'R-Squared': R2,\n",
    "                     'Adj. R-Squared': Adj_r2     \n",
    "                   })\n",
    "\n",
    "\n",
    "comp = comp.append(a, ignore_index=True)\n",
    "\n",
    "# print the result table\n",
    "comp"
   ]
  },
  {
   "cell_type": "code",
   "execution_count": 252,
   "metadata": {},
   "outputs": [
    {
     "name": "stdout",
     "output_type": "stream",
     "text": [
      "r2: 0.8102355531622902\n"
     ]
    }
   ],
   "source": [
    "cv = RepeatedKFold(n_splits=10,n_repeats=10, random_state=1)\n",
    "\n",
    "scores = cross_val_score(lm, X, y, scoring='r2',\n",
    "                         cv=cv, n_jobs=-1)\n",
    "R2=mean(absolute(scores))\n",
    "print(\"r2:\",mean(absolute(scores)))"
   ]
  },
  {
   "cell_type": "code",
   "execution_count": 253,
   "metadata": {},
   "outputs": [
    {
     "data": {
      "text/plain": [
       "array([0.88823873, 0.81040419, 0.82645436, 0.8524794 , 0.70196558,\n",
       "       0.81386801, 0.86821038, 0.87828202, 0.87544491, 0.63738177,\n",
       "       0.86346621, 0.81175756, 0.85555005, 0.57096544, 0.83118171,\n",
       "       0.70875281, 0.85812558, 0.86928367, 0.89961178, 0.87875958,\n",
       "       0.85923158, 0.89195984, 0.483192  , 0.85708446, 0.87173298,\n",
       "       0.80076692, 0.6713513 , 0.8659145 , 0.82647608, 0.8902236 ,\n",
       "       0.85068574, 0.8250148 , 0.88291922, 0.71387437, 0.86857152,\n",
       "       0.85707859, 0.84857824, 0.87452082, 0.60528152, 0.8661857 ,\n",
       "       0.82235373, 0.86370643, 0.6820772 , 0.82927365, 0.87603855,\n",
       "       0.8602748 , 0.86023856, 0.88061667, 0.5722126 , 0.84857204,\n",
       "       0.85590755, 0.89756546, 0.81924658, 0.70410523, 0.86185878,\n",
       "       0.89032718, 0.40925308, 0.8522714 , 0.85453475, 0.8471261 ,\n",
       "       0.87586519, 0.89042395, 0.67738013, 0.86529087, 0.62302656,\n",
       "       0.89213771, 0.84723859, 0.79294239, 0.86094057, 0.84603649,\n",
       "       0.87175846, 0.9048053 , 0.82437582, 0.84058042, 0.81752872,\n",
       "       0.47754264, 0.88953735, 0.8579261 , 0.8460816 , 0.62828708,\n",
       "       0.84646217, 0.85052104, 0.87374559, 0.89724516, 0.86674103,\n",
       "       0.81417743, 0.71393106, 0.71488925, 0.87890076, 0.85854912,\n",
       "       0.879818  , 0.87404526, 0.86592493, 0.87889503, 0.85822205,\n",
       "       0.22298067, 0.8816519 , 0.85463029, 0.79061343, 0.87351733])"
      ]
     },
     "execution_count": 253,
     "metadata": {},
     "output_type": "execute_result"
    }
   ],
   "source": [
    "scores"
   ]
  },
  {
   "cell_type": "code",
   "execution_count": 254,
   "metadata": {},
   "outputs": [
    {
     "name": "stdout",
     "output_type": "stream",
     "text": [
      "Adj_r2: 0.8060732223243744\n"
     ]
    }
   ],
   "source": [
    "Adj_r2 = 1-(1-R2)*(X.shape[0]-1)/(X.shape[0]-X.shape[1]-1)\n",
    "print('Adj_r2:',Adj_r2)"
   ]
  },
  {
   "cell_type": "code",
   "execution_count": 255,
   "metadata": {},
   "outputs": [
    {
     "data": {
      "text/html": [
       "<div>\n",
       "<style scoped>\n",
       "    .dataframe tbody tr th:only-of-type {\n",
       "        vertical-align: middle;\n",
       "    }\n",
       "\n",
       "    .dataframe tbody tr th {\n",
       "        vertical-align: top;\n",
       "    }\n",
       "\n",
       "    .dataframe thead th {\n",
       "        text-align: right;\n",
       "    }\n",
       "</style>\n",
       "<table border=\"1\" class=\"dataframe\">\n",
       "  <thead>\n",
       "    <tr style=\"text-align: right;\">\n",
       "      <th></th>\n",
       "      <th>Model_Name</th>\n",
       "      <th>R-Squared</th>\n",
       "      <th>Adj. R-Squared</th>\n",
       "    </tr>\n",
       "  </thead>\n",
       "  <tbody>\n",
       "    <tr>\n",
       "      <th>0</th>\n",
       "      <td>Linear regression after Scaling</td>\n",
       "      <td>0.863360</td>\n",
       "      <td>0.846934</td>\n",
       "    </tr>\n",
       "    <tr>\n",
       "      <th>1</th>\n",
       "      <td>Linear regression with KFold Cross validation</td>\n",
       "      <td>0.815273</td>\n",
       "      <td>0.811221</td>\n",
       "    </tr>\n",
       "    <tr>\n",
       "      <th>2</th>\n",
       "      <td>Linear regression with Repeated KFold Cross va...</td>\n",
       "      <td>0.810236</td>\n",
       "      <td>0.806073</td>\n",
       "    </tr>\n",
       "  </tbody>\n",
       "</table>\n",
       "</div>"
      ],
      "text/plain": [
       "                                          Model_Name  R-Squared  \\\n",
       "0                    Linear regression after Scaling   0.863360   \n",
       "1      Linear regression with KFold Cross validation   0.815273   \n",
       "2  Linear regression with Repeated KFold Cross va...   0.810236   \n",
       "\n",
       "   Adj. R-Squared  \n",
       "0        0.846934  \n",
       "1        0.811221  \n",
       "2        0.806073  "
      ]
     },
     "execution_count": 255,
     "metadata": {},
     "output_type": "execute_result"
    }
   ],
   "source": [
    "a = pd.Series({\n",
    "                     'Model_Name': \"Linear regression with Repeated KFold Cross validation\",\n",
    "                     'R-Squared': R2,\n",
    "                     'Adj. R-Squared': Adj_r2     \n",
    "                   })\n",
    "\n",
    "\n",
    "comp = comp.append(a, ignore_index=True)\n",
    "\n",
    "# print the result table\n",
    "comp"
   ]
  },
  {
   "cell_type": "code",
   "execution_count": null,
   "metadata": {},
   "outputs": [],
   "source": []
  }
 ],
 "metadata": {
  "kernelspec": {
   "display_name": "Python 3",
   "language": "python",
   "name": "python3"
  },
  "language_info": {
   "codemirror_mode": {
    "name": "ipython",
    "version": 3
   },
   "file_extension": ".py",
   "mimetype": "text/x-python",
   "name": "python",
   "nbconvert_exporter": "python",
   "pygments_lexer": "ipython3",
   "version": "3.8.3"
  }
 },
 "nbformat": 4,
 "nbformat_minor": 4
}
